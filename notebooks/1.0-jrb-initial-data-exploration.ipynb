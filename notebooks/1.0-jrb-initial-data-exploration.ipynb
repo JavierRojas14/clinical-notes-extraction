{
 "cells": [
  {
   "cell_type": "code",
   "execution_count": 1,
   "metadata": {},
   "outputs": [],
   "source": [
    "import pandas as pd\n",
    "import numpy as np\n",
    "\n",
    "import matplotlib.pyplot as plt\n",
    "import seaborn as sns\n",
    "\n",
    "import warnings\n",
    "\n",
    "warnings.filterwarnings(\"ignore\")\n",
    "sns.set_style()\n",
    "plt.rcParams[\"figure.figsize\"] = (12, 6)"
   ]
  },
  {
   "cell_type": "code",
   "execution_count": 2,
   "metadata": {},
   "outputs": [],
   "source": [
    "df = pd.read_csv(\"../data/processed/datos_limpios_diagnosticos.csv\",\n",
    "                 sep=\";\", encoding=\"latin-1\")\n"
   ]
  },
  {
   "cell_type": "markdown",
   "metadata": {},
   "source": [
    "# 1. Análisis de contenido de detalle de atención\n"
   ]
  },
  {
   "cell_type": "code",
   "execution_count": 20,
   "metadata": {},
   "outputs": [],
   "source": [
    "atencion_prueba = df[\"detalle_atencion\"][0]\n"
   ]
  },
  {
   "cell_type": "code",
   "execution_count": 19,
   "metadata": {},
   "outputs": [],
   "source": [
    "from nltk.tokenize import sent_tokenize, word_tokenize\n",
    "from nltk.corpus import stopwords"
   ]
  },
  {
   "cell_type": "markdown",
   "metadata": {},
   "source": [
    "## Tokenizacion de Oraciones y Palabras"
   ]
  },
  {
   "cell_type": "code",
   "execution_count": 35,
   "metadata": {},
   "outputs": [
    {
     "name": "stdout",
     "output_type": "stream",
     "text": [
      "['Paciente nueva primera consulta de Linares\\nderivada del HLCM.', 'paso a 3 medio (Quiere estudiar párvulos).', 'Con diagnostico de  EP critica.', 'Se intenta dilatación percutanea a los 3 ddv sin lograr apertura.', 'Se reaiza cirugia en CEC comprobandose atresia pulmonar sin CIV y VD tripartito e insuficiencia tricuspidea moderada.', 'Se realiza valvulotomia pulmonar mas plastia tricuspidea y plastia auricular el 30-9-1999(Dr. Leon).', 'Evolucionando con Estenosis Residual moderada dilatacion de cavidades derechas y fx sistolica niormal.', 'Trae RNM UC 2013:  VFD VD 108.6 ML/M2.', 'IP FR 33.7% (Examen previo 20111: 15.4%).', 'PRESENTO SINCOPE (Unico episodio) CON ESTUDIO NEGATIVO EN TIL TEST.', 'Eco hoy 12-1-16 Dr. Baraona: Estenosis pulmonar valvular y supravalvular leves con insuficiencia libre.', 'Dilatación e hipertrofia moderada del VD con fx sistolica disminuida.', 'Insuficiencia tricúspide moderada a severa.', 'Hace vida normal en gral, deporte al menos 4 veces por semana, ha bajado de peso y se siente mejor.', 'siente que ha presentado menos taquicardias.', 'tqb no.', 'oh no.', 'Rx Tórax: ICT: 0.48\\nECG: ritmo SINUSAL.', 'Dental: ok. exodoncia muelas juicio.', 'alergias: no\\nMEDS: Espironolacotona 25 mg al dia., se educa respecto a su enfermedad.', 'Se entregan datos de contacto de unidad\\nse entrega pasaporte de salud de congénitos.', 'se educa profilaxis de EBSA.', 'incentivar deporte aerobico.', '(Mntener deporte) \\ncontrol con TE y holter de ecg para evaluar momento qx, Control, Paciente nueva primera consulta de Linares\\nderivada del HLCM.', 'paso a 3 medio (Quiere estudiar párvulos).', 'Con diagnostico de  EP critica.', 'Se intenta dilatación percutanea a los 3 ddv sin lograr apertura.', 'Se reaiza cirugia en CEC comprobandose atresia pulmonar sin CIV y VD tripartito e insuficiencia tricuspidea moderada.', 'Se realiza valvulotomia pulmonar mas plastia tricuspidea y plastia auricular el 30-9-1999(Dr. Leon).', 'Evolucionando con Estenosis Residual moderada dilatacion de cavidades derechas y fx sistolica niormal.', 'Trae RNM UC 2013:  VFD VD 108.6 ML/M2.', 'IP FR 33.7% (Examen previo 20111: 15.4%).', 'PRESENTO SINCOPE (Unico episodio) CON ESTUDIO NEGATIVO EN TIL TEST.', 'Eco hoy 12-1-16 Dr. Baraona: Estenosis pulmonar valvular y supravalvular leves con insuficiencia libre.', 'Dilatación e hipertrofia moderada del VD con fx sistolica disminuida.', 'Insuficiencia tricúspide moderada a severa.', 'Hace vida normal en gral, deporte al menos 4 veces por semana, ha bajado de peso y se siente mejor.', 'siente que ha presentado menos taquicardias.', 'tqb no.', 'oh no.', 'Rx Tórax: ICT: 0.48\\nECG: ritmo SINUSAL.', 'Dental: ok. exodoncia muelas juicio.', 'alergias: no\\nMEDS: Espironolacotona 25 mg al dia., se educa respecto a su enfermedad.', 'Se entregan datos de contacto de unidad\\nse entrega pasaporte de salud de congénitos.', 'se educa profilaxis de EBSA.', 'incentivar deporte aerobico.', '(Mntener deporte) \\ncontrol con TE y holter de ecg para evaluar momento qx, Control, Paciente nueva primera consulta de Linares\\nderivada del HLCM.', 'paso a 3 medio (Quiere estudiar párvulos).', 'Con diagnostico de  EP critica.', 'Se intenta dilatación percutanea a los 3 ddv sin lograr apertura.', 'Se reaiza cirugia en CEC comprobandose atresia pulmonar sin CIV y VD tripartito e insuficiencia tricuspidea moderada.', 'Se realiza valvulotomia pulmonar mas plastia tricuspidea y plastia auricular el 30-9-1999(Dr. Leon).', 'Evolucionando con Estenosis Residual moderada dilatacion de cavidades derechas y fx sistolica niormal.', 'Trae RNM UC 2013:  VFD VD 108.6 ML/M2.', 'IP FR 33.7% (Examen previo 20111: 15.4%).', 'PRESENTO SINCOPE (Unico episodio) CON ESTUDIO NEGATIVO EN TIL TEST.', 'Eco hoy 12-1-16 Dr. Baraona: Estenosis pulmonar valvular y supravalvular leves con insuficiencia libre.', 'Dilatación e hipertrofia moderada del VD con fx sistolica disminuida.', 'Insuficiencia tricúspide moderada a severa.', 'Hace vida normal en gral, deporte al menos 4 veces por semana, ha bajado de peso y se siente mejor.', 'siente que ha presentado menos taquicardias.', 'tqb no.', 'oh no.', 'Rx Tórax: ICT: 0.48\\nECG: ritmo SINUSAL.', 'Dental: ok. exodoncia muelas juicio.', 'alergias: no\\nMEDS: Espironolacotona 25 mg al dia., se educa respecto a su enfermedad.', 'Se entregan datos de contacto de unidad\\nse entrega pasaporte de salud de congénitos.', 'se educa profilaxis de EBSA.', 'incentivar deporte aerobico.', '(Mntener deporte) \\ncontrol con TE y holter de ecg para evaluar momento qx, Control']\n",
      "['Paciente', 'nueva', 'primera', 'consulta', 'de', 'Linares', 'derivada', 'del', 'HLCM', '.', 'paso', 'a', '3', 'medio', '(', 'Quiere', 'estudiar', 'párvulos', ')', '.', 'Con', 'diagnostico', 'de', 'EP', 'critica', '.', 'Se', 'intenta', 'dilatación', 'percutanea', 'a', 'los', '3', 'ddv', 'sin', 'lograr', 'apertura', '.', 'Se', 'reaiza', 'cirugia', 'en', 'CEC', 'comprobandose', 'atresia', 'pulmonar', 'sin', 'CIV', 'y', 'VD', 'tripartito', 'e', 'insuficiencia', 'tricuspidea', 'moderada', '.', 'Se', 'realiza', 'valvulotomia', 'pulmonar', 'mas', 'plastia', 'tricuspidea', 'y', 'plastia', 'auricular', 'el', '30-9-1999', '(', 'Dr.', 'Leon', ')', '.', 'Evolucionando', 'con', 'Estenosis', 'Residual', 'moderada', 'dilatacion', 'de', 'cavidades', 'derechas', 'y', 'fx', 'sistolica', 'niormal', '.', 'Trae', 'RNM', 'UC', '2013', ':', 'VFD', 'VD', '108.6', 'ML/M2', '.', 'IP', 'FR', '33.7', '%', '(', 'Examen', 'previo', '20111', ':', '15.4', '%', ')', '.', 'PRESENTO', 'SINCOPE', '(', 'Unico', 'episodio', ')', 'CON', 'ESTUDIO', 'NEGATIVO', 'EN', 'TIL', 'TEST', '.', 'Eco', 'hoy', '12-1-16', 'Dr.', 'Baraona', ':', 'Estenosis', 'pulmonar', 'valvular', 'y', 'supravalvular', 'leves', 'con', 'insuficiencia', 'libre', '.', 'Dilatación', 'e', 'hipertrofia', 'moderada', 'del', 'VD', 'con', 'fx', 'sistolica', 'disminuida', '.', 'Insuficiencia', 'tricúspide', 'moderada', 'a', 'severa', '.', 'Hace', 'vida', 'normal', 'en', 'gral', ',', 'deporte', 'al', 'menos', '4', 'veces', 'por', 'semana', ',', 'ha', 'bajado', 'de', 'peso', 'y', 'se', 'siente', 'mejor', '.', 'siente', 'que', 'ha', 'presentado', 'menos', 'taquicardias', '.', 'tqb', 'no', '.', 'oh', 'no', '.', 'Rx', 'Tórax', ':', 'ICT', ':', '0.48', 'ECG', ':', 'ritmo', 'SINUSAL', '.', 'Dental', ':', 'ok.', 'exodoncia', 'muelas', 'juicio', '.', 'alergias', ':', 'no', 'MEDS', ':', 'Espironolacotona', '25', 'mg', 'al', 'dia.', ',', 'se', 'educa', 'respecto', 'a', 'su', 'enfermedad', '.', 'Se', 'entregan', 'datos', 'de', 'contacto', 'de', 'unidad', 'se', 'entrega', 'pasaporte', 'de', 'salud', 'de', 'congénitos', '.', 'se', 'educa', 'profilaxis', 'de', 'EBSA', '.', 'incentivar', 'deporte', 'aerobico', '.', '(', 'Mntener', 'deporte', ')', 'control', 'con', 'TE', 'y', 'holter', 'de', 'ecg', 'para', 'evaluar', 'momento', 'qx', ',', 'Control', ',', 'Paciente', 'nueva', 'primera', 'consulta', 'de', 'Linares', 'derivada', 'del', 'HLCM', '.', 'paso', 'a', '3', 'medio', '(', 'Quiere', 'estudiar', 'párvulos', ')', '.', 'Con', 'diagnostico', 'de', 'EP', 'critica', '.', 'Se', 'intenta', 'dilatación', 'percutanea', 'a', 'los', '3', 'ddv', 'sin', 'lograr', 'apertura', '.', 'Se', 'reaiza', 'cirugia', 'en', 'CEC', 'comprobandose', 'atresia', 'pulmonar', 'sin', 'CIV', 'y', 'VD', 'tripartito', 'e', 'insuficiencia', 'tricuspidea', 'moderada', '.', 'Se', 'realiza', 'valvulotomia', 'pulmonar', 'mas', 'plastia', 'tricuspidea', 'y', 'plastia', 'auricular', 'el', '30-9-1999', '(', 'Dr.', 'Leon', ')', '.', 'Evolucionando', 'con', 'Estenosis', 'Residual', 'moderada', 'dilatacion', 'de', 'cavidades', 'derechas', 'y', 'fx', 'sistolica', 'niormal', '.', 'Trae', 'RNM', 'UC', '2013', ':', 'VFD', 'VD', '108.6', 'ML/M2', '.', 'IP', 'FR', '33.7', '%', '(', 'Examen', 'previo', '20111', ':', '15.4', '%', ')', '.', 'PRESENTO', 'SINCOPE', '(', 'Unico', 'episodio', ')', 'CON', 'ESTUDIO', 'NEGATIVO', 'EN', 'TIL', 'TEST', '.', 'Eco', 'hoy', '12-1-16', 'Dr.', 'Baraona', ':', 'Estenosis', 'pulmonar', 'valvular', 'y', 'supravalvular', 'leves', 'con', 'insuficiencia', 'libre', '.', 'Dilatación', 'e', 'hipertrofia', 'moderada', 'del', 'VD', 'con', 'fx', 'sistolica', 'disminuida', '.', 'Insuficiencia', 'tricúspide', 'moderada', 'a', 'severa', '.', 'Hace', 'vida', 'normal', 'en', 'gral', ',', 'deporte', 'al', 'menos', '4', 'veces', 'por', 'semana', ',', 'ha', 'bajado', 'de', 'peso', 'y', 'se', 'siente', 'mejor', '.', 'siente', 'que', 'ha', 'presentado', 'menos', 'taquicardias', '.', 'tqb', 'no', '.', 'oh', 'no', '.', 'Rx', 'Tórax', ':', 'ICT', ':', '0.48', 'ECG', ':', 'ritmo', 'SINUSAL', '.', 'Dental', ':', 'ok.', 'exodoncia', 'muelas', 'juicio', '.', 'alergias', ':', 'no', 'MEDS', ':', 'Espironolacotona', '25', 'mg', 'al', 'dia.', ',', 'se', 'educa', 'respecto', 'a', 'su', 'enfermedad', '.', 'Se', 'entregan', 'datos', 'de', 'contacto', 'de', 'unidad', 'se', 'entrega', 'pasaporte', 'de', 'salud', 'de', 'congénitos', '.', 'se', 'educa', 'profilaxis', 'de', 'EBSA', '.', 'incentivar', 'deporte', 'aerobico', '.', '(', 'Mntener', 'deporte', ')', 'control', 'con', 'TE', 'y', 'holter', 'de', 'ecg', 'para', 'evaluar', 'momento', 'qx', ',', 'Control', ',', 'Paciente', 'nueva', 'primera', 'consulta', 'de', 'Linares', 'derivada', 'del', 'HLCM', '.', 'paso', 'a', '3', 'medio', '(', 'Quiere', 'estudiar', 'párvulos', ')', '.', 'Con', 'diagnostico', 'de', 'EP', 'critica', '.', 'Se', 'intenta', 'dilatación', 'percutanea', 'a', 'los', '3', 'ddv', 'sin', 'lograr', 'apertura', '.', 'Se', 'reaiza', 'cirugia', 'en', 'CEC', 'comprobandose', 'atresia', 'pulmonar', 'sin', 'CIV', 'y', 'VD', 'tripartito', 'e', 'insuficiencia', 'tricuspidea', 'moderada', '.', 'Se', 'realiza', 'valvulotomia', 'pulmonar', 'mas', 'plastia', 'tricuspidea', 'y', 'plastia', 'auricular', 'el', '30-9-1999', '(', 'Dr.', 'Leon', ')', '.', 'Evolucionando', 'con', 'Estenosis', 'Residual', 'moderada', 'dilatacion', 'de', 'cavidades', 'derechas', 'y', 'fx', 'sistolica', 'niormal', '.', 'Trae', 'RNM', 'UC', '2013', ':', 'VFD', 'VD', '108.6', 'ML/M2', '.', 'IP', 'FR', '33.7', '%', '(', 'Examen', 'previo', '20111', ':', '15.4', '%', ')', '.', 'PRESENTO', 'SINCOPE', '(', 'Unico', 'episodio', ')', 'CON', 'ESTUDIO', 'NEGATIVO', 'EN', 'TIL', 'TEST', '.', 'Eco', 'hoy', '12-1-16', 'Dr.', 'Baraona', ':', 'Estenosis', 'pulmonar', 'valvular', 'y', 'supravalvular', 'leves', 'con', 'insuficiencia', 'libre', '.', 'Dilatación', 'e', 'hipertrofia', 'moderada', 'del', 'VD', 'con', 'fx', 'sistolica', 'disminuida', '.', 'Insuficiencia', 'tricúspide', 'moderada', 'a', 'severa', '.', 'Hace', 'vida', 'normal', 'en', 'gral', ',', 'deporte', 'al', 'menos', '4', 'veces', 'por', 'semana', ',', 'ha', 'bajado', 'de', 'peso', 'y', 'se', 'siente', 'mejor', '.', 'siente', 'que', 'ha', 'presentado', 'menos', 'taquicardias', '.', 'tqb', 'no', '.', 'oh', 'no', '.', 'Rx', 'Tórax', ':', 'ICT', ':', '0.48', 'ECG', ':', 'ritmo', 'SINUSAL', '.', 'Dental', ':', 'ok.', 'exodoncia', 'muelas', 'juicio', '.', 'alergias', ':', 'no', 'MEDS', ':', 'Espironolacotona', '25', 'mg', 'al', 'dia.', ',', 'se', 'educa', 'respecto', 'a', 'su', 'enfermedad', '.', 'Se', 'entregan', 'datos', 'de', 'contacto', 'de', 'unidad', 'se', 'entrega', 'pasaporte', 'de', 'salud', 'de', 'congénitos', '.', 'se', 'educa', 'profilaxis', 'de', 'EBSA', '.', 'incentivar', 'deporte', 'aerobico', '.', '(', 'Mntener', 'deporte', ')', 'control', 'con', 'TE', 'y', 'holter', 'de', 'ecg', 'para', 'evaluar', 'momento', 'qx', ',', 'Control']\n"
     ]
    }
   ],
   "source": [
    "# Tokeniza por oracion y palabras\n",
    "separado_por_oracion = sent_tokenize(atencion_prueba)\n",
    "separado_por_palabra = word_tokenize(atencion_prueba)\n",
    "\n",
    "print(separado_por_oracion)\n",
    "print(separado_por_palabra)"
   ]
  },
  {
   "cell_type": "markdown",
   "metadata": {},
   "source": [
    "## Filtro por StopWords"
   ]
  },
  {
   "cell_type": "code",
   "execution_count": 34,
   "metadata": {},
   "outputs": [
    {
     "name": "stdout",
     "output_type": "stream",
     "text": [
      "['Paciente', 'nueva', 'primera', 'consulta', 'Linares', 'derivada', 'HLCM', '.', 'paso', '3', 'medio', '(', 'Quiere', 'estudiar', 'párvulos', ')', '.', 'Con', 'diagnostico', 'EP', 'critica', '.', 'Se', 'intenta', 'dilatación', 'percutanea', '3', 'ddv', 'lograr', 'apertura', '.', 'Se', 'reaiza', 'cirugia', 'CEC', 'comprobandose', 'atresia', 'pulmonar', 'CIV', 'VD', 'tripartito', 'insuficiencia', 'tricuspidea', 'moderada', '.', 'Se', 'realiza', 'valvulotomia', 'pulmonar', 'mas', 'plastia', 'tricuspidea', 'plastia', 'auricular', '30-9-1999', '(', 'Dr.', 'Leon', ')', '.', 'Evolucionando', 'Estenosis', 'Residual', 'moderada', 'dilatacion', 'cavidades', 'derechas', 'fx', 'sistolica', 'niormal', '.', 'Trae', 'RNM', 'UC', '2013', ':', 'VFD', 'VD', '108.6', 'ML/M2', '.', 'IP', 'FR', '33.7', '%', '(', 'Examen', 'previo', '20111', ':', '15.4', '%', ')', '.', 'PRESENTO', 'SINCOPE', '(', 'Unico', 'episodio', ')', 'CON', 'ESTUDIO', 'NEGATIVO', 'EN', 'TIL', 'TEST', '.', 'Eco', 'hoy', '12-1-16', 'Dr.', 'Baraona', ':', 'Estenosis', 'pulmonar', 'valvular', 'supravalvular', 'leves', 'insuficiencia', 'libre', '.', 'Dilatación', 'hipertrofia', 'moderada', 'VD', 'fx', 'sistolica', 'disminuida', '.', 'Insuficiencia', 'tricúspide', 'moderada', 'severa', '.', 'Hace', 'vida', 'normal', 'gral', ',', 'deporte', 'menos', '4', 'veces', 'semana', ',', 'bajado', 'peso', 'mejor', '.', 'presentado', 'menos', 'taquicardias', '.', 'tqb', '.', 'oh', '.', 'Rx', 'Tórax', ':', 'ICT', ':', '0.48', 'ECG', ':', 'ritmo', 'SINUSAL', '.', 'Dental', ':', 'ok.', 'exodoncia', 'muelas', 'juicio', '.', 'alergias', ':', 'MEDS', ':', 'Espironolacotona', '25', 'mg', 'dia.', ',', 'educa', 'respecto', 'enfermedad', '.', 'Se', 'entregan', 'datos', 'contacto', 'unidad', 'entrega', 'pasaporte', 'salud', 'congénitos', '.', 'educa', 'profilaxis', 'EBSA', '.', 'incentivar', 'deporte', 'aerobico', '.', '(', 'Mntener', 'deporte', ')', 'control', 'TE', 'holter', 'ecg', 'evaluar', 'momento', 'qx', ',', 'Control', ',', 'Paciente', 'nueva', 'primera', 'consulta', 'Linares', 'derivada', 'HLCM', '.', 'paso', '3', 'medio', '(', 'Quiere', 'estudiar', 'párvulos', ')', '.', 'Con', 'diagnostico', 'EP', 'critica', '.', 'Se', 'intenta', 'dilatación', 'percutanea', '3', 'ddv', 'lograr', 'apertura', '.', 'Se', 'reaiza', 'cirugia', 'CEC', 'comprobandose', 'atresia', 'pulmonar', 'CIV', 'VD', 'tripartito', 'insuficiencia', 'tricuspidea', 'moderada', '.', 'Se', 'realiza', 'valvulotomia', 'pulmonar', 'mas', 'plastia', 'tricuspidea', 'plastia', 'auricular', '30-9-1999', '(', 'Dr.', 'Leon', ')', '.', 'Evolucionando', 'Estenosis', 'Residual', 'moderada', 'dilatacion', 'cavidades', 'derechas', 'fx', 'sistolica', 'niormal', '.', 'Trae', 'RNM', 'UC', '2013', ':', 'VFD', 'VD', '108.6', 'ML/M2', '.', 'IP', 'FR', '33.7', '%', '(', 'Examen', 'previo', '20111', ':', '15.4', '%', ')', '.', 'PRESENTO', 'SINCOPE', '(', 'Unico', 'episodio', ')', 'CON', 'ESTUDIO', 'NEGATIVO', 'EN', 'TIL', 'TEST', '.', 'Eco', 'hoy', '12-1-16', 'Dr.', 'Baraona', ':', 'Estenosis', 'pulmonar', 'valvular', 'supravalvular', 'leves', 'insuficiencia', 'libre', '.', 'Dilatación', 'hipertrofia', 'moderada', 'VD', 'fx', 'sistolica', 'disminuida', '.', 'Insuficiencia', 'tricúspide', 'moderada', 'severa', '.', 'Hace', 'vida', 'normal', 'gral', ',', 'deporte', 'menos', '4', 'veces', 'semana', ',', 'bajado', 'peso', 'mejor', '.', 'presentado', 'menos', 'taquicardias', '.', 'tqb', '.', 'oh', '.', 'Rx', 'Tórax', ':', 'ICT', ':', '0.48', 'ECG', ':', 'ritmo', 'SINUSAL', '.', 'Dental', ':', 'ok.', 'exodoncia', 'muelas', 'juicio', '.', 'alergias', ':', 'MEDS', ':', 'Espironolacotona', '25', 'mg', 'dia.', ',', 'educa', 'respecto', 'enfermedad', '.', 'Se', 'entregan', 'datos', 'contacto', 'unidad', 'entrega', 'pasaporte', 'salud', 'congénitos', '.', 'educa', 'profilaxis', 'EBSA', '.', 'incentivar', 'deporte', 'aerobico', '.', '(', 'Mntener', 'deporte', ')', 'control', 'TE', 'holter', 'ecg', 'evaluar', 'momento', 'qx', ',', 'Control', ',', 'Paciente', 'nueva', 'primera', 'consulta', 'Linares', 'derivada', 'HLCM', '.', 'paso', '3', 'medio', '(', 'Quiere', 'estudiar', 'párvulos', ')', '.', 'Con', 'diagnostico', 'EP', 'critica', '.', 'Se', 'intenta', 'dilatación', 'percutanea', '3', 'ddv', 'lograr', 'apertura', '.', 'Se', 'reaiza', 'cirugia', 'CEC', 'comprobandose', 'atresia', 'pulmonar', 'CIV', 'VD', 'tripartito', 'insuficiencia', 'tricuspidea', 'moderada', '.', 'Se', 'realiza', 'valvulotomia', 'pulmonar', 'mas', 'plastia', 'tricuspidea', 'plastia', 'auricular', '30-9-1999', '(', 'Dr.', 'Leon', ')', '.', 'Evolucionando', 'Estenosis', 'Residual', 'moderada', 'dilatacion', 'cavidades', 'derechas', 'fx', 'sistolica', 'niormal', '.', 'Trae', 'RNM', 'UC', '2013', ':', 'VFD', 'VD', '108.6', 'ML/M2', '.', 'IP', 'FR', '33.7', '%', '(', 'Examen', 'previo', '20111', ':', '15.4', '%', ')', '.', 'PRESENTO', 'SINCOPE', '(', 'Unico', 'episodio', ')', 'CON', 'ESTUDIO', 'NEGATIVO', 'EN', 'TIL', 'TEST', '.', 'Eco', 'hoy', '12-1-16', 'Dr.', 'Baraona', ':', 'Estenosis', 'pulmonar', 'valvular', 'supravalvular', 'leves', 'insuficiencia', 'libre', '.', 'Dilatación', 'hipertrofia', 'moderada', 'VD', 'fx', 'sistolica', 'disminuida', '.', 'Insuficiencia', 'tricúspide', 'moderada', 'severa', '.', 'Hace', 'vida', 'normal', 'gral', ',', 'deporte', 'menos', '4', 'veces', 'semana', ',', 'bajado', 'peso', 'mejor', '.', 'presentado', 'menos', 'taquicardias', '.', 'tqb', '.', 'oh', '.', 'Rx', 'Tórax', ':', 'ICT', ':', '0.48', 'ECG', ':', 'ritmo', 'SINUSAL', '.', 'Dental', ':', 'ok.', 'exodoncia', 'muelas', 'juicio', '.', 'alergias', ':', 'MEDS', ':', 'Espironolacotona', '25', 'mg', 'dia.', ',', 'educa', 'respecto', 'enfermedad', '.', 'Se', 'entregan', 'datos', 'contacto', 'unidad', 'entrega', 'pasaporte', 'salud', 'congénitos', '.', 'educa', 'profilaxis', 'EBSA', '.', 'incentivar', 'deporte', 'aerobico', '.', '(', 'Mntener', 'deporte', ')', 'control', 'TE', 'holter', 'ecg', 'evaluar', 'momento', 'qx', ',', 'Control']\n"
     ]
    }
   ],
   "source": [
    "stop_words = stopwords.words(\"spanish\")\n",
    "atencion_sin_stopwords = [palabra for palabra in separado_por_palabra if palabra not in stop_words]\n",
    "print(atencion_sin_stopwords)"
   ]
  },
  {
   "cell_type": "markdown",
   "metadata": {},
   "source": [
    "## Stemming"
   ]
  },
  {
   "cell_type": "code",
   "execution_count": 36,
   "metadata": {},
   "outputs": [],
   "source": [
    "# I was taking a ride in the car.\n",
    "# I was riding  in the car.\n",
    "# En este caso, ride y riding significan lo mismo. Con stemming se reduce a la raiz de una palabra."
   ]
  },
  {
   "cell_type": "code",
   "execution_count": 38,
   "metadata": {},
   "outputs": [],
   "source": [
    "from nltk.stem import PorterStemmer\n",
    "\n",
    "ps = PorterStemmer()"
   ]
  },
  {
   "cell_type": "code",
   "execution_count": 42,
   "metadata": {},
   "outputs": [
    {
     "name": "stdout",
     "output_type": "stream",
     "text": [
      "python\n",
      "python\n",
      "python\n",
      "python\n",
      "pythonli\n"
     ]
    }
   ],
   "source": [
    "palabras_prueba = [\"python\", \"pythoner\", \"pythoning\", \"pythoned\", \"pythonly\"]\n",
    "for w in palabras_prueba:\n",
    "    print(ps.stem(w))"
   ]
  },
  {
   "cell_type": "code",
   "execution_count": 46,
   "metadata": {},
   "outputs": [
    {
     "name": "stdout",
     "output_type": "stream",
     "text": [
      "it\n",
      "is\n",
      "veri\n",
      "import\n",
      "to\n",
      "be\n",
      "pythonli\n",
      "while\n",
      "you\n",
      "are\n",
      "python\n",
      "with\n",
      "python\n",
      ".\n",
      "all\n",
      "python\n",
      "have\n",
      "python\n",
      "poorli\n",
      "at\n",
      "least\n",
      "onc\n",
      ".\n"
     ]
    }
   ],
   "source": [
    "nuevo_texto = (\n",
    "    \"It is very important to be pythonly while you are pythoning with python. \"\n",
    "    \"All pythoners have pythoned poorly at least once.\"\n",
    ")\n",
    "\n",
    "palabras = word_tokenize(nuevo_texto)\n",
    "for palabra in palabras:\n",
    "    print(ps.stem(palabra))"
   ]
  },
  {
   "cell_type": "code",
   "execution_count": 45,
   "metadata": {},
   "outputs": [
    {
     "name": "stdout",
     "output_type": "stream",
     "text": [
      "it\n",
      "is\n",
      "veri\n",
      "import\n",
      "to\n",
      "be\n",
      "pythonli\n",
      "while\n",
      "you\n",
      "are\n",
      "python\n",
      "with\n",
      "python\n",
      ".\n",
      "all\n",
      "python\n",
      "have\n",
      "python\n",
      "poorli\n",
      "at\n",
      "least\n",
      "onc\n",
      ".\n"
     ]
    }
   ],
   "source": []
  },
  {
   "cell_type": "code",
   "execution_count": null,
   "metadata": {},
   "outputs": [],
   "source": []
  }
 ],
 "metadata": {
  "kernelspec": {
   "display_name": "clinical-notes",
   "language": "python",
   "name": "python3"
  },
  "language_info": {
   "codemirror_mode": {
    "name": "ipython",
    "version": 3
   },
   "file_extension": ".py",
   "mimetype": "text/x-python",
   "name": "python",
   "nbconvert_exporter": "python",
   "pygments_lexer": "ipython3",
   "version": "3.11.5"
  },
  "orig_nbformat": 4
 },
 "nbformat": 4,
 "nbformat_minor": 2
}
