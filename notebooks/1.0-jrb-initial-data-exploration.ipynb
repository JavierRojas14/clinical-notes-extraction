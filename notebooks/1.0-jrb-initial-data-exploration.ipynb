{
 "cells": [
  {
   "cell_type": "code",
   "execution_count": 1,
   "metadata": {},
   "outputs": [],
   "source": [
    "import pandas as pd\n",
    "import numpy as np\n",
    "\n",
    "import matplotlib.pyplot as plt\n",
    "import seaborn as sns\n",
    "\n",
    "import warnings\n",
    "\n",
    "warnings.filterwarnings(\"ignore\")\n",
    "sns.set_style()\n",
    "plt.rcParams[\"figure.figsize\"] = (12, 6)"
   ]
  },
  {
   "cell_type": "code",
   "execution_count": 2,
   "metadata": {},
   "outputs": [],
   "source": [
    "df = pd.read_csv(\"../data/processed/datos_limpios_diagnosticos.csv\",\n",
    "                 sep=\";\", encoding=\"latin-1\")\n"
   ]
  },
  {
   "cell_type": "markdown",
   "metadata": {},
   "source": [
    "# 1. Análisis de contenido de detalle de atención\n"
   ]
  },
  {
   "cell_type": "code",
   "execution_count": 20,
   "metadata": {},
   "outputs": [],
   "source": [
    "atencion_prueba = df[\"detalle_atencion\"][0]\n"
   ]
  },
  {
   "cell_type": "code",
   "execution_count": 19,
   "metadata": {},
   "outputs": [],
   "source": [
    "from nltk.tokenize import sent_tokenize, word_tokenize\n",
    "from nltk.corpus import stopwords"
   ]
  },
  {
   "cell_type": "code",
   "execution_count": 21,
   "metadata": {},
   "outputs": [
    {
     "name": "stdout",
     "output_type": "stream",
     "text": [
      "['Paciente nueva primera consulta de Linares\\nderivada del HLCM.', 'paso a 3 medio (Quiere estudiar párvulos).', 'Con diagnostico de  EP critica.', 'Se intenta dilatación percutanea a los 3 ddv sin lograr apertura.', 'Se reaiza cirugia en CEC comprobandose atresia pulmonar sin CIV y VD tripartito e insuficiencia tricuspidea moderada.', 'Se realiza valvulotomia pulmonar mas plastia tricuspidea y plastia auricular el 30-9-1999(Dr. Leon).', 'Evolucionando con Estenosis Residual moderada dilatacion de cavidades derechas y fx sistolica niormal.', 'Trae RNM UC 2013:  VFD VD 108.6 ML/M2.', 'IP FR 33.7% (Examen previo 20111: 15.4%).', 'PRESENTO SINCOPE (Unico episodio) CON ESTUDIO NEGATIVO EN TIL TEST.', 'Eco hoy 12-1-16 Dr. Baraona: Estenosis pulmonar valvular y supravalvular leves con insuficiencia libre.', 'Dilatación e hipertrofia moderada del VD con fx sistolica disminuida.', 'Insuficiencia tricúspide moderada a severa.', 'Hace vida normal en gral, deporte al menos 4 veces por semana, ha bajado de peso y se siente mejor.', 'siente que ha presentado menos taquicardias.', 'tqb no.', 'oh no.', 'Rx Tórax: ICT: 0.48\\nECG: ritmo SINUSAL.', 'Dental: ok. exodoncia muelas juicio.', 'alergias: no\\nMEDS: Espironolacotona 25 mg al dia., se educa respecto a su enfermedad.', 'Se entregan datos de contacto de unidad\\nse entrega pasaporte de salud de congénitos.', 'se educa profilaxis de EBSA.', 'incentivar deporte aerobico.', '(Mntener deporte) \\ncontrol con TE y holter de ecg para evaluar momento qx, Control, Paciente nueva primera consulta de Linares\\nderivada del HLCM.', 'paso a 3 medio (Quiere estudiar párvulos).', 'Con diagnostico de  EP critica.', 'Se intenta dilatación percutanea a los 3 ddv sin lograr apertura.', 'Se reaiza cirugia en CEC comprobandose atresia pulmonar sin CIV y VD tripartito e insuficiencia tricuspidea moderada.', 'Se realiza valvulotomia pulmonar mas plastia tricuspidea y plastia auricular el 30-9-1999(Dr. Leon).', 'Evolucionando con Estenosis Residual moderada dilatacion de cavidades derechas y fx sistolica niormal.', 'Trae RNM UC 2013:  VFD VD 108.6 ML/M2.', 'IP FR 33.7% (Examen previo 20111: 15.4%).', 'PRESENTO SINCOPE (Unico episodio) CON ESTUDIO NEGATIVO EN TIL TEST.', 'Eco hoy 12-1-16 Dr. Baraona: Estenosis pulmonar valvular y supravalvular leves con insuficiencia libre.', 'Dilatación e hipertrofia moderada del VD con fx sistolica disminuida.', 'Insuficiencia tricúspide moderada a severa.', 'Hace vida normal en gral, deporte al menos 4 veces por semana, ha bajado de peso y se siente mejor.', 'siente que ha presentado menos taquicardias.', 'tqb no.', 'oh no.', 'Rx Tórax: ICT: 0.48\\nECG: ritmo SINUSAL.', 'Dental: ok. exodoncia muelas juicio.', 'alergias: no\\nMEDS: Espironolacotona 25 mg al dia., se educa respecto a su enfermedad.', 'Se entregan datos de contacto de unidad\\nse entrega pasaporte de salud de congénitos.', 'se educa profilaxis de EBSA.', 'incentivar deporte aerobico.', '(Mntener deporte) \\ncontrol con TE y holter de ecg para evaluar momento qx, Control, Paciente nueva primera consulta de Linares\\nderivada del HLCM.', 'paso a 3 medio (Quiere estudiar párvulos).', 'Con diagnostico de  EP critica.', 'Se intenta dilatación percutanea a los 3 ddv sin lograr apertura.', 'Se reaiza cirugia en CEC comprobandose atresia pulmonar sin CIV y VD tripartito e insuficiencia tricuspidea moderada.', 'Se realiza valvulotomia pulmonar mas plastia tricuspidea y plastia auricular el 30-9-1999(Dr. Leon).', 'Evolucionando con Estenosis Residual moderada dilatacion de cavidades derechas y fx sistolica niormal.', 'Trae RNM UC 2013:  VFD VD 108.6 ML/M2.', 'IP FR 33.7% (Examen previo 20111: 15.4%).', 'PRESENTO SINCOPE (Unico episodio) CON ESTUDIO NEGATIVO EN TIL TEST.', 'Eco hoy 12-1-16 Dr. Baraona: Estenosis pulmonar valvular y supravalvular leves con insuficiencia libre.', 'Dilatación e hipertrofia moderada del VD con fx sistolica disminuida.', 'Insuficiencia tricúspide moderada a severa.', 'Hace vida normal en gral, deporte al menos 4 veces por semana, ha bajado de peso y se siente mejor.', 'siente que ha presentado menos taquicardias.', 'tqb no.', 'oh no.', 'Rx Tórax: ICT: 0.48\\nECG: ritmo SINUSAL.', 'Dental: ok. exodoncia muelas juicio.', 'alergias: no\\nMEDS: Espironolacotona 25 mg al dia., se educa respecto a su enfermedad.', 'Se entregan datos de contacto de unidad\\nse entrega pasaporte de salud de congénitos.', 'se educa profilaxis de EBSA.', 'incentivar deporte aerobico.', '(Mntener deporte) \\ncontrol con TE y holter de ecg para evaluar momento qx, Control']\n",
      "['Paciente', 'nueva', 'primera', 'consulta', 'de', 'Linares', 'derivada', 'del', 'HLCM', '.', 'paso', 'a', '3', 'medio', '(', 'Quiere', 'estudiar', 'párvulos', ')', '.', 'Con', 'diagnostico', 'de', 'EP', 'critica', '.', 'Se', 'intenta', 'dilatación', 'percutanea', 'a', 'los', '3', 'ddv', 'sin', 'lograr', 'apertura', '.', 'Se', 'reaiza', 'cirugia', 'en', 'CEC', 'comprobandose', 'atresia', 'pulmonar', 'sin', 'CIV', 'y', 'VD', 'tripartito', 'e', 'insuficiencia', 'tricuspidea', 'moderada', '.', 'Se', 'realiza', 'valvulotomia', 'pulmonar', 'mas', 'plastia', 'tricuspidea', 'y', 'plastia', 'auricular', 'el', '30-9-1999', '(', 'Dr.', 'Leon', ')', '.', 'Evolucionando', 'con', 'Estenosis', 'Residual', 'moderada', 'dilatacion', 'de', 'cavidades', 'derechas', 'y', 'fx', 'sistolica', 'niormal', '.', 'Trae', 'RNM', 'UC', '2013', ':', 'VFD', 'VD', '108.6', 'ML/M2', '.', 'IP', 'FR', '33.7', '%', '(', 'Examen', 'previo', '20111', ':', '15.4', '%', ')', '.', 'PRESENTO', 'SINCOPE', '(', 'Unico', 'episodio', ')', 'CON', 'ESTUDIO', 'NEGATIVO', 'EN', 'TIL', 'TEST', '.', 'Eco', 'hoy', '12-1-16', 'Dr.', 'Baraona', ':', 'Estenosis', 'pulmonar', 'valvular', 'y', 'supravalvular', 'leves', 'con', 'insuficiencia', 'libre', '.', 'Dilatación', 'e', 'hipertrofia', 'moderada', 'del', 'VD', 'con', 'fx', 'sistolica', 'disminuida', '.', 'Insuficiencia', 'tricúspide', 'moderada', 'a', 'severa', '.', 'Hace', 'vida', 'normal', 'en', 'gral', ',', 'deporte', 'al', 'menos', '4', 'veces', 'por', 'semana', ',', 'ha', 'bajado', 'de', 'peso', 'y', 'se', 'siente', 'mejor', '.', 'siente', 'que', 'ha', 'presentado', 'menos', 'taquicardias', '.', 'tqb', 'no', '.', 'oh', 'no', '.', 'Rx', 'Tórax', ':', 'ICT', ':', '0.48', 'ECG', ':', 'ritmo', 'SINUSAL', '.', 'Dental', ':', 'ok.', 'exodoncia', 'muelas', 'juicio', '.', 'alergias', ':', 'no', 'MEDS', ':', 'Espironolacotona', '25', 'mg', 'al', 'dia.', ',', 'se', 'educa', 'respecto', 'a', 'su', 'enfermedad', '.', 'Se', 'entregan', 'datos', 'de', 'contacto', 'de', 'unidad', 'se', 'entrega', 'pasaporte', 'de', 'salud', 'de', 'congénitos', '.', 'se', 'educa', 'profilaxis', 'de', 'EBSA', '.', 'incentivar', 'deporte', 'aerobico', '.', '(', 'Mntener', 'deporte', ')', 'control', 'con', 'TE', 'y', 'holter', 'de', 'ecg', 'para', 'evaluar', 'momento', 'qx', ',', 'Control', ',', 'Paciente', 'nueva', 'primera', 'consulta', 'de', 'Linares', 'derivada', 'del', 'HLCM', '.', 'paso', 'a', '3', 'medio', '(', 'Quiere', 'estudiar', 'párvulos', ')', '.', 'Con', 'diagnostico', 'de', 'EP', 'critica', '.', 'Se', 'intenta', 'dilatación', 'percutanea', 'a', 'los', '3', 'ddv', 'sin', 'lograr', 'apertura', '.', 'Se', 'reaiza', 'cirugia', 'en', 'CEC', 'comprobandose', 'atresia', 'pulmonar', 'sin', 'CIV', 'y', 'VD', 'tripartito', 'e', 'insuficiencia', 'tricuspidea', 'moderada', '.', 'Se', 'realiza', 'valvulotomia', 'pulmonar', 'mas', 'plastia', 'tricuspidea', 'y', 'plastia', 'auricular', 'el', '30-9-1999', '(', 'Dr.', 'Leon', ')', '.', 'Evolucionando', 'con', 'Estenosis', 'Residual', 'moderada', 'dilatacion', 'de', 'cavidades', 'derechas', 'y', 'fx', 'sistolica', 'niormal', '.', 'Trae', 'RNM', 'UC', '2013', ':', 'VFD', 'VD', '108.6', 'ML/M2', '.', 'IP', 'FR', '33.7', '%', '(', 'Examen', 'previo', '20111', ':', '15.4', '%', ')', '.', 'PRESENTO', 'SINCOPE', '(', 'Unico', 'episodio', ')', 'CON', 'ESTUDIO', 'NEGATIVO', 'EN', 'TIL', 'TEST', '.', 'Eco', 'hoy', '12-1-16', 'Dr.', 'Baraona', ':', 'Estenosis', 'pulmonar', 'valvular', 'y', 'supravalvular', 'leves', 'con', 'insuficiencia', 'libre', '.', 'Dilatación', 'e', 'hipertrofia', 'moderada', 'del', 'VD', 'con', 'fx', 'sistolica', 'disminuida', '.', 'Insuficiencia', 'tricúspide', 'moderada', 'a', 'severa', '.', 'Hace', 'vida', 'normal', 'en', 'gral', ',', 'deporte', 'al', 'menos', '4', 'veces', 'por', 'semana', ',', 'ha', 'bajado', 'de', 'peso', 'y', 'se', 'siente', 'mejor', '.', 'siente', 'que', 'ha', 'presentado', 'menos', 'taquicardias', '.', 'tqb', 'no', '.', 'oh', 'no', '.', 'Rx', 'Tórax', ':', 'ICT', ':', '0.48', 'ECG', ':', 'ritmo', 'SINUSAL', '.', 'Dental', ':', 'ok.', 'exodoncia', 'muelas', 'juicio', '.', 'alergias', ':', 'no', 'MEDS', ':', 'Espironolacotona', '25', 'mg', 'al', 'dia.', ',', 'se', 'educa', 'respecto', 'a', 'su', 'enfermedad', '.', 'Se', 'entregan', 'datos', 'de', 'contacto', 'de', 'unidad', 'se', 'entrega', 'pasaporte', 'de', 'salud', 'de', 'congénitos', '.', 'se', 'educa', 'profilaxis', 'de', 'EBSA', '.', 'incentivar', 'deporte', 'aerobico', '.', '(', 'Mntener', 'deporte', ')', 'control', 'con', 'TE', 'y', 'holter', 'de', 'ecg', 'para', 'evaluar', 'momento', 'qx', ',', 'Control', ',', 'Paciente', 'nueva', 'primera', 'consulta', 'de', 'Linares', 'derivada', 'del', 'HLCM', '.', 'paso', 'a', '3', 'medio', '(', 'Quiere', 'estudiar', 'párvulos', ')', '.', 'Con', 'diagnostico', 'de', 'EP', 'critica', '.', 'Se', 'intenta', 'dilatación', 'percutanea', 'a', 'los', '3', 'ddv', 'sin', 'lograr', 'apertura', '.', 'Se', 'reaiza', 'cirugia', 'en', 'CEC', 'comprobandose', 'atresia', 'pulmonar', 'sin', 'CIV', 'y', 'VD', 'tripartito', 'e', 'insuficiencia', 'tricuspidea', 'moderada', '.', 'Se', 'realiza', 'valvulotomia', 'pulmonar', 'mas', 'plastia', 'tricuspidea', 'y', 'plastia', 'auricular', 'el', '30-9-1999', '(', 'Dr.', 'Leon', ')', '.', 'Evolucionando', 'con', 'Estenosis', 'Residual', 'moderada', 'dilatacion', 'de', 'cavidades', 'derechas', 'y', 'fx', 'sistolica', 'niormal', '.', 'Trae', 'RNM', 'UC', '2013', ':', 'VFD', 'VD', '108.6', 'ML/M2', '.', 'IP', 'FR', '33.7', '%', '(', 'Examen', 'previo', '20111', ':', '15.4', '%', ')', '.', 'PRESENTO', 'SINCOPE', '(', 'Unico', 'episodio', ')', 'CON', 'ESTUDIO', 'NEGATIVO', 'EN', 'TIL', 'TEST', '.', 'Eco', 'hoy', '12-1-16', 'Dr.', 'Baraona', ':', 'Estenosis', 'pulmonar', 'valvular', 'y', 'supravalvular', 'leves', 'con', 'insuficiencia', 'libre', '.', 'Dilatación', 'e', 'hipertrofia', 'moderada', 'del', 'VD', 'con', 'fx', 'sistolica', 'disminuida', '.', 'Insuficiencia', 'tricúspide', 'moderada', 'a', 'severa', '.', 'Hace', 'vida', 'normal', 'en', 'gral', ',', 'deporte', 'al', 'menos', '4', 'veces', 'por', 'semana', ',', 'ha', 'bajado', 'de', 'peso', 'y', 'se', 'siente', 'mejor', '.', 'siente', 'que', 'ha', 'presentado', 'menos', 'taquicardias', '.', 'tqb', 'no', '.', 'oh', 'no', '.', 'Rx', 'Tórax', ':', 'ICT', ':', '0.48', 'ECG', ':', 'ritmo', 'SINUSAL', '.', 'Dental', ':', 'ok.', 'exodoncia', 'muelas', 'juicio', '.', 'alergias', ':', 'no', 'MEDS', ':', 'Espironolacotona', '25', 'mg', 'al', 'dia.', ',', 'se', 'educa', 'respecto', 'a', 'su', 'enfermedad', '.', 'Se', 'entregan', 'datos', 'de', 'contacto', 'de', 'unidad', 'se', 'entrega', 'pasaporte', 'de', 'salud', 'de', 'congénitos', '.', 'se', 'educa', 'profilaxis', 'de', 'EBSA', '.', 'incentivar', 'deporte', 'aerobico', '.', '(', 'Mntener', 'deporte', ')', 'control', 'con', 'TE', 'y', 'holter', 'de', 'ecg', 'para', 'evaluar', 'momento', 'qx', ',', 'Control']\n"
     ]
    }
   ],
   "source": [
    "print(sent_tokenize(atencion_prueba))\n",
    "print(word_tokenize(atencion_prueba))"
   ]
  }
 ],
 "metadata": {
  "kernelspec": {
   "display_name": "clinical-notes",
   "language": "python",
   "name": "python3"
  },
  "language_info": {
   "codemirror_mode": {
    "name": "ipython",
    "version": 3
   },
   "file_extension": ".py",
   "mimetype": "text/x-python",
   "name": "python",
   "nbconvert_exporter": "python",
   "pygments_lexer": "ipython3",
   "version": "3.11.5"
  },
  "orig_nbformat": 4
 },
 "nbformat": 4,
 "nbformat_minor": 2
}
