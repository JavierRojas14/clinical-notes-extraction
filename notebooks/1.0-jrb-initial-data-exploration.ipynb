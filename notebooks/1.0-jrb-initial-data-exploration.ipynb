{
 "cells": [
  {
   "cell_type": "code",
   "execution_count": 1,
   "metadata": {},
   "outputs": [],
   "source": [
    "import pandas as pd\n",
    "import numpy as np\n",
    "\n",
    "import matplotlib.pyplot as plt\n",
    "import seaborn as sns\n",
    "\n",
    "import warnings\n",
    "\n",
    "warnings.filterwarnings(\"ignore\")\n",
    "sns.set_style()\n",
    "plt.rcParams[\"figure.figsize\"] = (12, 6)"
   ]
  },
  {
   "cell_type": "code",
   "execution_count": 2,
   "metadata": {},
   "outputs": [],
   "source": [
    "df = pd.read_csv(\"../data/processed/datos_limpios_diagnosticos.csv\",\n",
    "                 sep=\";\", encoding=\"latin-1\")\n"
   ]
  },
  {
   "cell_type": "markdown",
   "metadata": {},
   "source": [
    "# 1. Análisis de contenido de detalle de atención\n"
   ]
  },
  {
   "cell_type": "code",
   "execution_count": 20,
   "metadata": {},
   "outputs": [],
   "source": [
    "atencion_prueba = df[\"detalle_atencion\"][0]\n"
   ]
  },
  {
   "cell_type": "code",
   "execution_count": 19,
   "metadata": {},
   "outputs": [],
   "source": [
    "from nltk.tokenize import sent_tokenize, word_tokenize\n",
    "from nltk.corpus import stopwords"
   ]
  },
  {
   "cell_type": "markdown",
   "metadata": {},
   "source": [
    "## Tokenizacion de Oraciones y Palabras"
   ]
  },
  {
   "cell_type": "code",
   "execution_count": 35,
   "metadata": {},
   "outputs": [
    {
     "name": "stdout",
     "output_type": "stream",
     "text": [
      "['Paciente nueva primera consulta de Linares\\nderivada del HLCM.', 'paso a 3 medio (Quiere estudiar párvulos).', 'Con diagnostico de  EP critica.', 'Se intenta dilatación percutanea a los 3 ddv sin lograr apertura.', 'Se reaiza cirugia en CEC comprobandose atresia pulmonar sin CIV y VD tripartito e insuficiencia tricuspidea moderada.', 'Se realiza valvulotomia pulmonar mas plastia tricuspidea y plastia auricular el 30-9-1999(Dr. Leon).', 'Evolucionando con Estenosis Residual moderada dilatacion de cavidades derechas y fx sistolica niormal.', 'Trae RNM UC 2013:  VFD VD 108.6 ML/M2.', 'IP FR 33.7% (Examen previo 20111: 15.4%).', 'PRESENTO SINCOPE (Unico episodio) CON ESTUDIO NEGATIVO EN TIL TEST.', 'Eco hoy 12-1-16 Dr. Baraona: Estenosis pulmonar valvular y supravalvular leves con insuficiencia libre.', 'Dilatación e hipertrofia moderada del VD con fx sistolica disminuida.', 'Insuficiencia tricúspide moderada a severa.', 'Hace vida normal en gral, deporte al menos 4 veces por semana, ha bajado de peso y se siente mejor.', 'siente que ha presentado menos taquicardias.', 'tqb no.', 'oh no.', 'Rx Tórax: ICT: 0.48\\nECG: ritmo SINUSAL.', 'Dental: ok. exodoncia muelas juicio.', 'alergias: no\\nMEDS: Espironolacotona 25 mg al dia., se educa respecto a su enfermedad.', 'Se entregan datos de contacto de unidad\\nse entrega pasaporte de salud de congénitos.', 'se educa profilaxis de EBSA.', 'incentivar deporte aerobico.', '(Mntener deporte) \\ncontrol con TE y holter de ecg para evaluar momento qx, Control, Paciente nueva primera consulta de Linares\\nderivada del HLCM.', 'paso a 3 medio (Quiere estudiar párvulos).', 'Con diagnostico de  EP critica.', 'Se intenta dilatación percutanea a los 3 ddv sin lograr apertura.', 'Se reaiza cirugia en CEC comprobandose atresia pulmonar sin CIV y VD tripartito e insuficiencia tricuspidea moderada.', 'Se realiza valvulotomia pulmonar mas plastia tricuspidea y plastia auricular el 30-9-1999(Dr. Leon).', 'Evolucionando con Estenosis Residual moderada dilatacion de cavidades derechas y fx sistolica niormal.', 'Trae RNM UC 2013:  VFD VD 108.6 ML/M2.', 'IP FR 33.7% (Examen previo 20111: 15.4%).', 'PRESENTO SINCOPE (Unico episodio) CON ESTUDIO NEGATIVO EN TIL TEST.', 'Eco hoy 12-1-16 Dr. Baraona: Estenosis pulmonar valvular y supravalvular leves con insuficiencia libre.', 'Dilatación e hipertrofia moderada del VD con fx sistolica disminuida.', 'Insuficiencia tricúspide moderada a severa.', 'Hace vida normal en gral, deporte al menos 4 veces por semana, ha bajado de peso y se siente mejor.', 'siente que ha presentado menos taquicardias.', 'tqb no.', 'oh no.', 'Rx Tórax: ICT: 0.48\\nECG: ritmo SINUSAL.', 'Dental: ok. exodoncia muelas juicio.', 'alergias: no\\nMEDS: Espironolacotona 25 mg al dia., se educa respecto a su enfermedad.', 'Se entregan datos de contacto de unidad\\nse entrega pasaporte de salud de congénitos.', 'se educa profilaxis de EBSA.', 'incentivar deporte aerobico.', '(Mntener deporte) \\ncontrol con TE y holter de ecg para evaluar momento qx, Control, Paciente nueva primera consulta de Linares\\nderivada del HLCM.', 'paso a 3 medio (Quiere estudiar párvulos).', 'Con diagnostico de  EP critica.', 'Se intenta dilatación percutanea a los 3 ddv sin lograr apertura.', 'Se reaiza cirugia en CEC comprobandose atresia pulmonar sin CIV y VD tripartito e insuficiencia tricuspidea moderada.', 'Se realiza valvulotomia pulmonar mas plastia tricuspidea y plastia auricular el 30-9-1999(Dr. Leon).', 'Evolucionando con Estenosis Residual moderada dilatacion de cavidades derechas y fx sistolica niormal.', 'Trae RNM UC 2013:  VFD VD 108.6 ML/M2.', 'IP FR 33.7% (Examen previo 20111: 15.4%).', 'PRESENTO SINCOPE (Unico episodio) CON ESTUDIO NEGATIVO EN TIL TEST.', 'Eco hoy 12-1-16 Dr. Baraona: Estenosis pulmonar valvular y supravalvular leves con insuficiencia libre.', 'Dilatación e hipertrofia moderada del VD con fx sistolica disminuida.', 'Insuficiencia tricúspide moderada a severa.', 'Hace vida normal en gral, deporte al menos 4 veces por semana, ha bajado de peso y se siente mejor.', 'siente que ha presentado menos taquicardias.', 'tqb no.', 'oh no.', 'Rx Tórax: ICT: 0.48\\nECG: ritmo SINUSAL.', 'Dental: ok. exodoncia muelas juicio.', 'alergias: no\\nMEDS: Espironolacotona 25 mg al dia., se educa respecto a su enfermedad.', 'Se entregan datos de contacto de unidad\\nse entrega pasaporte de salud de congénitos.', 'se educa profilaxis de EBSA.', 'incentivar deporte aerobico.', '(Mntener deporte) \\ncontrol con TE y holter de ecg para evaluar momento qx, Control']\n",
      "['Paciente', 'nueva', 'primera', 'consulta', 'de', 'Linares', 'derivada', 'del', 'HLCM', '.', 'paso', 'a', '3', 'medio', '(', 'Quiere', 'estudiar', 'párvulos', ')', '.', 'Con', 'diagnostico', 'de', 'EP', 'critica', '.', 'Se', 'intenta', 'dilatación', 'percutanea', 'a', 'los', '3', 'ddv', 'sin', 'lograr', 'apertura', '.', 'Se', 'reaiza', 'cirugia', 'en', 'CEC', 'comprobandose', 'atresia', 'pulmonar', 'sin', 'CIV', 'y', 'VD', 'tripartito', 'e', 'insuficiencia', 'tricuspidea', 'moderada', '.', 'Se', 'realiza', 'valvulotomia', 'pulmonar', 'mas', 'plastia', 'tricuspidea', 'y', 'plastia', 'auricular', 'el', '30-9-1999', '(', 'Dr.', 'Leon', ')', '.', 'Evolucionando', 'con', 'Estenosis', 'Residual', 'moderada', 'dilatacion', 'de', 'cavidades', 'derechas', 'y', 'fx', 'sistolica', 'niormal', '.', 'Trae', 'RNM', 'UC', '2013', ':', 'VFD', 'VD', '108.6', 'ML/M2', '.', 'IP', 'FR', '33.7', '%', '(', 'Examen', 'previo', '20111', ':', '15.4', '%', ')', '.', 'PRESENTO', 'SINCOPE', '(', 'Unico', 'episodio', ')', 'CON', 'ESTUDIO', 'NEGATIVO', 'EN', 'TIL', 'TEST', '.', 'Eco', 'hoy', '12-1-16', 'Dr.', 'Baraona', ':', 'Estenosis', 'pulmonar', 'valvular', 'y', 'supravalvular', 'leves', 'con', 'insuficiencia', 'libre', '.', 'Dilatación', 'e', 'hipertrofia', 'moderada', 'del', 'VD', 'con', 'fx', 'sistolica', 'disminuida', '.', 'Insuficiencia', 'tricúspide', 'moderada', 'a', 'severa', '.', 'Hace', 'vida', 'normal', 'en', 'gral', ',', 'deporte', 'al', 'menos', '4', 'veces', 'por', 'semana', ',', 'ha', 'bajado', 'de', 'peso', 'y', 'se', 'siente', 'mejor', '.', 'siente', 'que', 'ha', 'presentado', 'menos', 'taquicardias', '.', 'tqb', 'no', '.', 'oh', 'no', '.', 'Rx', 'Tórax', ':', 'ICT', ':', '0.48', 'ECG', ':', 'ritmo', 'SINUSAL', '.', 'Dental', ':', 'ok.', 'exodoncia', 'muelas', 'juicio', '.', 'alergias', ':', 'no', 'MEDS', ':', 'Espironolacotona', '25', 'mg', 'al', 'dia.', ',', 'se', 'educa', 'respecto', 'a', 'su', 'enfermedad', '.', 'Se', 'entregan', 'datos', 'de', 'contacto', 'de', 'unidad', 'se', 'entrega', 'pasaporte', 'de', 'salud', 'de', 'congénitos', '.', 'se', 'educa', 'profilaxis', 'de', 'EBSA', '.', 'incentivar', 'deporte', 'aerobico', '.', '(', 'Mntener', 'deporte', ')', 'control', 'con', 'TE', 'y', 'holter', 'de', 'ecg', 'para', 'evaluar', 'momento', 'qx', ',', 'Control', ',', 'Paciente', 'nueva', 'primera', 'consulta', 'de', 'Linares', 'derivada', 'del', 'HLCM', '.', 'paso', 'a', '3', 'medio', '(', 'Quiere', 'estudiar', 'párvulos', ')', '.', 'Con', 'diagnostico', 'de', 'EP', 'critica', '.', 'Se', 'intenta', 'dilatación', 'percutanea', 'a', 'los', '3', 'ddv', 'sin', 'lograr', 'apertura', '.', 'Se', 'reaiza', 'cirugia', 'en', 'CEC', 'comprobandose', 'atresia', 'pulmonar', 'sin', 'CIV', 'y', 'VD', 'tripartito', 'e', 'insuficiencia', 'tricuspidea', 'moderada', '.', 'Se', 'realiza', 'valvulotomia', 'pulmonar', 'mas', 'plastia', 'tricuspidea', 'y', 'plastia', 'auricular', 'el', '30-9-1999', '(', 'Dr.', 'Leon', ')', '.', 'Evolucionando', 'con', 'Estenosis', 'Residual', 'moderada', 'dilatacion', 'de', 'cavidades', 'derechas', 'y', 'fx', 'sistolica', 'niormal', '.', 'Trae', 'RNM', 'UC', '2013', ':', 'VFD', 'VD', '108.6', 'ML/M2', '.', 'IP', 'FR', '33.7', '%', '(', 'Examen', 'previo', '20111', ':', '15.4', '%', ')', '.', 'PRESENTO', 'SINCOPE', '(', 'Unico', 'episodio', ')', 'CON', 'ESTUDIO', 'NEGATIVO', 'EN', 'TIL', 'TEST', '.', 'Eco', 'hoy', '12-1-16', 'Dr.', 'Baraona', ':', 'Estenosis', 'pulmonar', 'valvular', 'y', 'supravalvular', 'leves', 'con', 'insuficiencia', 'libre', '.', 'Dilatación', 'e', 'hipertrofia', 'moderada', 'del', 'VD', 'con', 'fx', 'sistolica', 'disminuida', '.', 'Insuficiencia', 'tricúspide', 'moderada', 'a', 'severa', '.', 'Hace', 'vida', 'normal', 'en', 'gral', ',', 'deporte', 'al', 'menos', '4', 'veces', 'por', 'semana', ',', 'ha', 'bajado', 'de', 'peso', 'y', 'se', 'siente', 'mejor', '.', 'siente', 'que', 'ha', 'presentado', 'menos', 'taquicardias', '.', 'tqb', 'no', '.', 'oh', 'no', '.', 'Rx', 'Tórax', ':', 'ICT', ':', '0.48', 'ECG', ':', 'ritmo', 'SINUSAL', '.', 'Dental', ':', 'ok.', 'exodoncia', 'muelas', 'juicio', '.', 'alergias', ':', 'no', 'MEDS', ':', 'Espironolacotona', '25', 'mg', 'al', 'dia.', ',', 'se', 'educa', 'respecto', 'a', 'su', 'enfermedad', '.', 'Se', 'entregan', 'datos', 'de', 'contacto', 'de', 'unidad', 'se', 'entrega', 'pasaporte', 'de', 'salud', 'de', 'congénitos', '.', 'se', 'educa', 'profilaxis', 'de', 'EBSA', '.', 'incentivar', 'deporte', 'aerobico', '.', '(', 'Mntener', 'deporte', ')', 'control', 'con', 'TE', 'y', 'holter', 'de', 'ecg', 'para', 'evaluar', 'momento', 'qx', ',', 'Control', ',', 'Paciente', 'nueva', 'primera', 'consulta', 'de', 'Linares', 'derivada', 'del', 'HLCM', '.', 'paso', 'a', '3', 'medio', '(', 'Quiere', 'estudiar', 'párvulos', ')', '.', 'Con', 'diagnostico', 'de', 'EP', 'critica', '.', 'Se', 'intenta', 'dilatación', 'percutanea', 'a', 'los', '3', 'ddv', 'sin', 'lograr', 'apertura', '.', 'Se', 'reaiza', 'cirugia', 'en', 'CEC', 'comprobandose', 'atresia', 'pulmonar', 'sin', 'CIV', 'y', 'VD', 'tripartito', 'e', 'insuficiencia', 'tricuspidea', 'moderada', '.', 'Se', 'realiza', 'valvulotomia', 'pulmonar', 'mas', 'plastia', 'tricuspidea', 'y', 'plastia', 'auricular', 'el', '30-9-1999', '(', 'Dr.', 'Leon', ')', '.', 'Evolucionando', 'con', 'Estenosis', 'Residual', 'moderada', 'dilatacion', 'de', 'cavidades', 'derechas', 'y', 'fx', 'sistolica', 'niormal', '.', 'Trae', 'RNM', 'UC', '2013', ':', 'VFD', 'VD', '108.6', 'ML/M2', '.', 'IP', 'FR', '33.7', '%', '(', 'Examen', 'previo', '20111', ':', '15.4', '%', ')', '.', 'PRESENTO', 'SINCOPE', '(', 'Unico', 'episodio', ')', 'CON', 'ESTUDIO', 'NEGATIVO', 'EN', 'TIL', 'TEST', '.', 'Eco', 'hoy', '12-1-16', 'Dr.', 'Baraona', ':', 'Estenosis', 'pulmonar', 'valvular', 'y', 'supravalvular', 'leves', 'con', 'insuficiencia', 'libre', '.', 'Dilatación', 'e', 'hipertrofia', 'moderada', 'del', 'VD', 'con', 'fx', 'sistolica', 'disminuida', '.', 'Insuficiencia', 'tricúspide', 'moderada', 'a', 'severa', '.', 'Hace', 'vida', 'normal', 'en', 'gral', ',', 'deporte', 'al', 'menos', '4', 'veces', 'por', 'semana', ',', 'ha', 'bajado', 'de', 'peso', 'y', 'se', 'siente', 'mejor', '.', 'siente', 'que', 'ha', 'presentado', 'menos', 'taquicardias', '.', 'tqb', 'no', '.', 'oh', 'no', '.', 'Rx', 'Tórax', ':', 'ICT', ':', '0.48', 'ECG', ':', 'ritmo', 'SINUSAL', '.', 'Dental', ':', 'ok.', 'exodoncia', 'muelas', 'juicio', '.', 'alergias', ':', 'no', 'MEDS', ':', 'Espironolacotona', '25', 'mg', 'al', 'dia.', ',', 'se', 'educa', 'respecto', 'a', 'su', 'enfermedad', '.', 'Se', 'entregan', 'datos', 'de', 'contacto', 'de', 'unidad', 'se', 'entrega', 'pasaporte', 'de', 'salud', 'de', 'congénitos', '.', 'se', 'educa', 'profilaxis', 'de', 'EBSA', '.', 'incentivar', 'deporte', 'aerobico', '.', '(', 'Mntener', 'deporte', ')', 'control', 'con', 'TE', 'y', 'holter', 'de', 'ecg', 'para', 'evaluar', 'momento', 'qx', ',', 'Control']\n"
     ]
    }
   ],
   "source": [
    "# Tokeniza por oracion y palabras\n",
    "separado_por_oracion = sent_tokenize(atencion_prueba)\n",
    "separado_por_palabra = word_tokenize(atencion_prueba)\n",
    "\n",
    "print(separado_por_oracion)\n",
    "print(separado_por_palabra)"
   ]
  },
  {
   "cell_type": "markdown",
   "metadata": {},
   "source": [
    "## Filtro por StopWords"
   ]
  },
  {
   "cell_type": "code",
   "execution_count": 34,
   "metadata": {},
   "outputs": [
    {
     "name": "stdout",
     "output_type": "stream",
     "text": [
      "['Paciente', 'nueva', 'primera', 'consulta', 'Linares', 'derivada', 'HLCM', '.', 'paso', '3', 'medio', '(', 'Quiere', 'estudiar', 'párvulos', ')', '.', 'Con', 'diagnostico', 'EP', 'critica', '.', 'Se', 'intenta', 'dilatación', 'percutanea', '3', 'ddv', 'lograr', 'apertura', '.', 'Se', 'reaiza', 'cirugia', 'CEC', 'comprobandose', 'atresia', 'pulmonar', 'CIV', 'VD', 'tripartito', 'insuficiencia', 'tricuspidea', 'moderada', '.', 'Se', 'realiza', 'valvulotomia', 'pulmonar', 'mas', 'plastia', 'tricuspidea', 'plastia', 'auricular', '30-9-1999', '(', 'Dr.', 'Leon', ')', '.', 'Evolucionando', 'Estenosis', 'Residual', 'moderada', 'dilatacion', 'cavidades', 'derechas', 'fx', 'sistolica', 'niormal', '.', 'Trae', 'RNM', 'UC', '2013', ':', 'VFD', 'VD', '108.6', 'ML/M2', '.', 'IP', 'FR', '33.7', '%', '(', 'Examen', 'previo', '20111', ':', '15.4', '%', ')', '.', 'PRESENTO', 'SINCOPE', '(', 'Unico', 'episodio', ')', 'CON', 'ESTUDIO', 'NEGATIVO', 'EN', 'TIL', 'TEST', '.', 'Eco', 'hoy', '12-1-16', 'Dr.', 'Baraona', ':', 'Estenosis', 'pulmonar', 'valvular', 'supravalvular', 'leves', 'insuficiencia', 'libre', '.', 'Dilatación', 'hipertrofia', 'moderada', 'VD', 'fx', 'sistolica', 'disminuida', '.', 'Insuficiencia', 'tricúspide', 'moderada', 'severa', '.', 'Hace', 'vida', 'normal', 'gral', ',', 'deporte', 'menos', '4', 'veces', 'semana', ',', 'bajado', 'peso', 'mejor', '.', 'presentado', 'menos', 'taquicardias', '.', 'tqb', '.', 'oh', '.', 'Rx', 'Tórax', ':', 'ICT', ':', '0.48', 'ECG', ':', 'ritmo', 'SINUSAL', '.', 'Dental', ':', 'ok.', 'exodoncia', 'muelas', 'juicio', '.', 'alergias', ':', 'MEDS', ':', 'Espironolacotona', '25', 'mg', 'dia.', ',', 'educa', 'respecto', 'enfermedad', '.', 'Se', 'entregan', 'datos', 'contacto', 'unidad', 'entrega', 'pasaporte', 'salud', 'congénitos', '.', 'educa', 'profilaxis', 'EBSA', '.', 'incentivar', 'deporte', 'aerobico', '.', '(', 'Mntener', 'deporte', ')', 'control', 'TE', 'holter', 'ecg', 'evaluar', 'momento', 'qx', ',', 'Control', ',', 'Paciente', 'nueva', 'primera', 'consulta', 'Linares', 'derivada', 'HLCM', '.', 'paso', '3', 'medio', '(', 'Quiere', 'estudiar', 'párvulos', ')', '.', 'Con', 'diagnostico', 'EP', 'critica', '.', 'Se', 'intenta', 'dilatación', 'percutanea', '3', 'ddv', 'lograr', 'apertura', '.', 'Se', 'reaiza', 'cirugia', 'CEC', 'comprobandose', 'atresia', 'pulmonar', 'CIV', 'VD', 'tripartito', 'insuficiencia', 'tricuspidea', 'moderada', '.', 'Se', 'realiza', 'valvulotomia', 'pulmonar', 'mas', 'plastia', 'tricuspidea', 'plastia', 'auricular', '30-9-1999', '(', 'Dr.', 'Leon', ')', '.', 'Evolucionando', 'Estenosis', 'Residual', 'moderada', 'dilatacion', 'cavidades', 'derechas', 'fx', 'sistolica', 'niormal', '.', 'Trae', 'RNM', 'UC', '2013', ':', 'VFD', 'VD', '108.6', 'ML/M2', '.', 'IP', 'FR', '33.7', '%', '(', 'Examen', 'previo', '20111', ':', '15.4', '%', ')', '.', 'PRESENTO', 'SINCOPE', '(', 'Unico', 'episodio', ')', 'CON', 'ESTUDIO', 'NEGATIVO', 'EN', 'TIL', 'TEST', '.', 'Eco', 'hoy', '12-1-16', 'Dr.', 'Baraona', ':', 'Estenosis', 'pulmonar', 'valvular', 'supravalvular', 'leves', 'insuficiencia', 'libre', '.', 'Dilatación', 'hipertrofia', 'moderada', 'VD', 'fx', 'sistolica', 'disminuida', '.', 'Insuficiencia', 'tricúspide', 'moderada', 'severa', '.', 'Hace', 'vida', 'normal', 'gral', ',', 'deporte', 'menos', '4', 'veces', 'semana', ',', 'bajado', 'peso', 'mejor', '.', 'presentado', 'menos', 'taquicardias', '.', 'tqb', '.', 'oh', '.', 'Rx', 'Tórax', ':', 'ICT', ':', '0.48', 'ECG', ':', 'ritmo', 'SINUSAL', '.', 'Dental', ':', 'ok.', 'exodoncia', 'muelas', 'juicio', '.', 'alergias', ':', 'MEDS', ':', 'Espironolacotona', '25', 'mg', 'dia.', ',', 'educa', 'respecto', 'enfermedad', '.', 'Se', 'entregan', 'datos', 'contacto', 'unidad', 'entrega', 'pasaporte', 'salud', 'congénitos', '.', 'educa', 'profilaxis', 'EBSA', '.', 'incentivar', 'deporte', 'aerobico', '.', '(', 'Mntener', 'deporte', ')', 'control', 'TE', 'holter', 'ecg', 'evaluar', 'momento', 'qx', ',', 'Control', ',', 'Paciente', 'nueva', 'primera', 'consulta', 'Linares', 'derivada', 'HLCM', '.', 'paso', '3', 'medio', '(', 'Quiere', 'estudiar', 'párvulos', ')', '.', 'Con', 'diagnostico', 'EP', 'critica', '.', 'Se', 'intenta', 'dilatación', 'percutanea', '3', 'ddv', 'lograr', 'apertura', '.', 'Se', 'reaiza', 'cirugia', 'CEC', 'comprobandose', 'atresia', 'pulmonar', 'CIV', 'VD', 'tripartito', 'insuficiencia', 'tricuspidea', 'moderada', '.', 'Se', 'realiza', 'valvulotomia', 'pulmonar', 'mas', 'plastia', 'tricuspidea', 'plastia', 'auricular', '30-9-1999', '(', 'Dr.', 'Leon', ')', '.', 'Evolucionando', 'Estenosis', 'Residual', 'moderada', 'dilatacion', 'cavidades', 'derechas', 'fx', 'sistolica', 'niormal', '.', 'Trae', 'RNM', 'UC', '2013', ':', 'VFD', 'VD', '108.6', 'ML/M2', '.', 'IP', 'FR', '33.7', '%', '(', 'Examen', 'previo', '20111', ':', '15.4', '%', ')', '.', 'PRESENTO', 'SINCOPE', '(', 'Unico', 'episodio', ')', 'CON', 'ESTUDIO', 'NEGATIVO', 'EN', 'TIL', 'TEST', '.', 'Eco', 'hoy', '12-1-16', 'Dr.', 'Baraona', ':', 'Estenosis', 'pulmonar', 'valvular', 'supravalvular', 'leves', 'insuficiencia', 'libre', '.', 'Dilatación', 'hipertrofia', 'moderada', 'VD', 'fx', 'sistolica', 'disminuida', '.', 'Insuficiencia', 'tricúspide', 'moderada', 'severa', '.', 'Hace', 'vida', 'normal', 'gral', ',', 'deporte', 'menos', '4', 'veces', 'semana', ',', 'bajado', 'peso', 'mejor', '.', 'presentado', 'menos', 'taquicardias', '.', 'tqb', '.', 'oh', '.', 'Rx', 'Tórax', ':', 'ICT', ':', '0.48', 'ECG', ':', 'ritmo', 'SINUSAL', '.', 'Dental', ':', 'ok.', 'exodoncia', 'muelas', 'juicio', '.', 'alergias', ':', 'MEDS', ':', 'Espironolacotona', '25', 'mg', 'dia.', ',', 'educa', 'respecto', 'enfermedad', '.', 'Se', 'entregan', 'datos', 'contacto', 'unidad', 'entrega', 'pasaporte', 'salud', 'congénitos', '.', 'educa', 'profilaxis', 'EBSA', '.', 'incentivar', 'deporte', 'aerobico', '.', '(', 'Mntener', 'deporte', ')', 'control', 'TE', 'holter', 'ecg', 'evaluar', 'momento', 'qx', ',', 'Control']\n"
     ]
    }
   ],
   "source": [
    "stop_words = stopwords.words(\"spanish\")\n",
    "atencion_sin_stopwords = [palabra for palabra in separado_por_palabra if palabra not in stop_words]\n",
    "print(atencion_sin_stopwords)"
   ]
  },
  {
   "cell_type": "markdown",
   "metadata": {},
   "source": [
    "## Stemming"
   ]
  },
  {
   "cell_type": "code",
   "execution_count": 36,
   "metadata": {},
   "outputs": [],
   "source": [
    "# I was taking a ride in the car.\n",
    "# I was riding  in the car.\n",
    "# En este caso, ride y riding significan lo mismo. Con stemming se reduce a la raiz de una palabra."
   ]
  },
  {
   "cell_type": "code",
   "execution_count": 38,
   "metadata": {},
   "outputs": [],
   "source": [
    "from nltk.stem import PorterStemmer\n",
    "\n",
    "ps = PorterStemmer()"
   ]
  },
  {
   "cell_type": "code",
   "execution_count": 42,
   "metadata": {},
   "outputs": [
    {
     "name": "stdout",
     "output_type": "stream",
     "text": [
      "python\n",
      "python\n",
      "python\n",
      "python\n",
      "pythonli\n"
     ]
    }
   ],
   "source": [
    "palabras_prueba = [\"python\", \"pythoner\", \"pythoning\", \"pythoned\", \"pythonly\"]\n",
    "for w in palabras_prueba:\n",
    "    print(ps.stem(w))"
   ]
  },
  {
   "cell_type": "code",
   "execution_count": 46,
   "metadata": {},
   "outputs": [
    {
     "name": "stdout",
     "output_type": "stream",
     "text": [
      "it\n",
      "is\n",
      "veri\n",
      "import\n",
      "to\n",
      "be\n",
      "pythonli\n",
      "while\n",
      "you\n",
      "are\n",
      "python\n",
      "with\n",
      "python\n",
      ".\n",
      "all\n",
      "python\n",
      "have\n",
      "python\n",
      "poorli\n",
      "at\n",
      "least\n",
      "onc\n",
      ".\n"
     ]
    }
   ],
   "source": [
    "nuevo_texto = (\n",
    "    \"It is very important to be pythonly while you are pythoning with python. \"\n",
    "    \"All pythoners have pythoned poorly at least once.\"\n",
    ")\n",
    "\n",
    "palabras = word_tokenize(nuevo_texto)\n",
    "for palabra in palabras:\n",
    "    print(ps.stem(palabra))"
   ]
  },
  {
   "cell_type": "markdown",
   "metadata": {},
   "source": [
    "## Part of Speech\n",
    "\n",
    "Agrega una etiqueta a cada palabra, indicando si la palabra es un articulo, sustantivo, adjetivo,\n",
    "etc."
   ]
  },
  {
   "cell_type": "code",
   "execution_count": 48,
   "metadata": {},
   "outputs": [],
   "source": [
    "import nltk\n",
    "\n",
    "from nltk.corpus import state_union\n",
    "from nltk.tokenize import PunktSentenceTokenizer"
   ]
  },
  {
   "cell_type": "markdown",
   "metadata": {},
   "source": [
    "- CC: It is the conjunction of coordinating\n",
    "- CD: It is a digit of cardinal\n",
    "- DT: It is the determiner\n",
    "- EX: Existential\n",
    "- FW: It is a foreign word\n",
    "- IN: Preposition and conjunction\n",
    "- JJ: Adjective\n",
    "- JJR and JJS: Adjective and superlative\n",
    "- LS: List marker\n",
    "- MD: Modal\n",
    "- NN: Singular noun\n",
    "- NNS, NNP, NNPS: Proper and plural noun\n",
    "- PDT: Predeterminer\n",
    "- WRB: Adverb of wh\n",
    "- WP$: Possessive wh\n",
    "- WP: Pronoun of wh\n",
    "- WDT: Determiner of wp\n",
    "- VBZ: Verb\n",
    "- VBP, VBN, VBG, VBD, VB: Forms of verbs\n",
    "- UH: Interjection\n",
    "- TO: To go\n",
    "- RP: Particle\n",
    "- RBS, RB, RBR: Adverb\n",
    "- PRP, PRP$: Pronoun personal and professional"
   ]
  },
  {
   "cell_type": "code",
   "execution_count": 62,
   "metadata": {},
   "outputs": [
    {
     "name": "stdout",
     "output_type": "stream",
     "text": [
      "[('Paciente', 'NNP'), ('nueva', 'CC'), ('primera', 'NN'), ('consulta', 'NN'), ('Linares', 'NNP'), ('derivada', 'VBZ'), ('HLCM', 'NNP'), ('.', '.'), ('paso', 'NN'), ('3', 'CD'), ('medio', 'NN'), ('(', '('), ('Quiere', 'NNP'), ('estudiar', 'RB'), ('párvulos', 'NN'), (')', ')'), ('.', '.'), ('Con', 'NNP'), ('diagnostico', 'NN'), ('EP', 'NNP'), ('critica', 'NN'), ('.', '.'), ('Se', 'NNP'), ('intenta', 'JJ'), ('dilatación', 'NN'), ('percutanea', 'NN'), ('3', 'CD'), ('ddv', 'NN'), ('lograr', 'NN'), ('apertura', 'NN'), ('.', '.'), ('Se', 'NNP'), ('reaiza', 'NN'), ('cirugia', 'NN'), ('CEC', 'NNP'), ('comprobandose', 'NN'), ('atresia', 'NN'), ('pulmonar', 'NN'), ('CIV', 'NNP'), ('VD', 'NNP'), ('tripartito', 'NN'), ('insuficiencia', 'NN'), ('tricuspidea', 'NN'), ('moderada', 'NN'), ('.', '.'), ('Se', 'NNP'), ('realiza', 'NN'), ('valvulotomia', 'NN'), ('pulmonar', 'NN'), ('mas', 'NN'), ('plastia', 'NN'), ('tricuspidea', 'NN'), ('plastia', 'NN'), ('auricular', 'JJ'), ('30-9-1999', 'JJ'), ('(', '('), ('Dr.', 'NNP'), ('Leon', 'NNP'), (')', ')'), ('.', '.'), ('Evolucionando', 'NNP'), ('Estenosis', 'NNP'), ('Residual', 'NNP'), ('moderada', 'NNP'), ('dilatacion', 'NN'), ('cavidades', 'NNS'), ('derechas', 'VBP'), ('fx', 'VBN'), ('sistolica', 'JJ'), ('niormal', 'JJ'), ('.', '.'), ('Trae', 'NNP'), ('RNM', 'NNP'), ('UC', 'NNP'), ('2013', 'CD'), (':', ':'), ('VFD', 'NNP'), ('VD', 'NNP'), ('108.6', 'CD'), ('ML/M2', 'NNP'), ('.', '.'), ('IP', 'NNP'), ('FR', 'NNP'), ('33.7', 'CD'), ('%', 'NN'), ('(', '('), ('Examen', 'NNP'), ('previo', 'VBZ'), ('20111', 'CD'), (':', ':'), ('15.4', 'CD'), ('%', 'NN'), (')', ')'), ('.', '.'), ('PRESENTO', 'NNP'), ('SINCOPE', 'NNP'), ('(', '('), ('Unico', 'NNP'), ('episodio', 'NN'), (')', ')'), ('CON', 'NNP'), ('ESTUDIO', 'NNP'), ('NEGATIVO', 'NNP'), ('EN', 'NNP'), ('TIL', 'NNP'), ('TEST', 'NNP'), ('.', '.'), ('Eco', 'NNP'), ('hoy', 'VBD'), ('12-1-16', 'JJ'), ('Dr.', 'NNP'), ('Baraona', 'NNP'), (':', ':'), ('Estenosis', 'NN'), ('pulmonar', 'NN'), ('valvular', 'JJ'), ('supravalvular', 'JJ'), ('leves', 'NNS'), ('insuficiencia', 'VBP'), ('libre', 'NN'), ('.', '.'), ('Dilatación', 'NNP'), ('hipertrofia', 'NN'), ('moderada', 'NN'), ('VD', 'NNP'), ('fx', 'NN'), ('sistolica', 'NN'), ('disminuida', 'NN'), ('.', '.'), ('Insuficiencia', 'NNP'), ('tricúspide', 'IN'), ('moderada', 'NNP'), ('severa', 'NN'), ('.', '.'), ('Hace', 'NNP'), ('vida', 'IN'), ('normal', 'JJ'), ('gral', 'JJ'), (',', ','), ('deporte', 'JJ'), ('menos', 'FW'), ('4', 'CD'), ('veces', 'NNS'), ('semana', 'NN'), (',', ','), ('bajado', 'NN'), ('peso', 'NN'), ('mejor', 'NN'), ('.', '.'), ('presentado', 'JJ'), ('menos', 'JJ'), ('taquicardias', 'NN'), ('.', '.'), ('tqb', 'NN'), ('.', '.'), ('oh', 'UH'), ('.', '.'), ('Rx', 'JJ'), ('Tórax', 'NN'), (':', ':'), ('ICT', 'NN'), (':', ':'), ('0.48', 'CD'), ('ECG', 'NN'), (':', ':'), ('ritmo', 'NN'), ('SINUSAL', 'NNP'), ('.', '.'), ('Dental', 'NN'), (':', ':'), ('ok.', 'JJ'), ('exodoncia', 'NN'), ('muelas', 'NNS'), ('juicio', 'NN'), ('.', '.'), ('alergias', 'NN'), (':', ':'), ('MEDS', 'NN'), (':', ':'), ('Espironolacotona', 'NNP'), ('25', 'CD'), ('mg', 'NN'), ('dia.', 'NN'), (',', ','), ('educa', 'FW'), ('respecto', 'NN'), ('enfermedad', 'NN'), ('.', '.'), ('Se', 'NNP'), ('entregan', 'JJ'), ('datos', 'NNS'), ('contacto', 'VBP'), ('unidad', 'JJ'), ('entrega', 'JJ'), ('pasaporte', 'NN'), ('salud', 'NN'), ('congénitos', 'NN'), ('.', '.'), ('educa', 'CC'), ('profilaxis', 'JJ'), ('EBSA', 'NNP'), ('.', '.'), ('incentivar', 'NN'), ('deporte', 'NN'), ('aerobico', 'NN'), ('.', '.'), ('(', '('), ('Mntener', 'NNP'), ('deporte', 'RB'), (')', ')'), ('control', 'NN'), ('TE', 'NNP'), ('holter', 'NN'), ('ecg', 'NN'), ('evaluar', 'NN'), ('momento', 'NN'), ('qx', 'NN'), (',', ','), ('Control', 'NNP'), (',', ','), ('Paciente', 'NNP'), ('nueva', 'FW'), ('primera', 'NN'), ('consulta', 'NN'), ('Linares', 'NNP'), ('derivada', 'VBZ'), ('HLCM', 'NNP'), ('.', '.'), ('paso', 'NN'), ('3', 'CD'), ('medio', 'NN'), ('(', '('), ('Quiere', 'NNP'), ('estudiar', 'RB'), ('párvulos', 'NN'), (')', ')'), ('.', '.'), ('Con', 'NNP'), ('diagnostico', 'NN'), ('EP', 'NNP'), ('critica', 'NN'), ('.', '.'), ('Se', 'NNP'), ('intenta', 'JJ'), ('dilatación', 'NN'), ('percutanea', 'NN'), ('3', 'CD'), ('ddv', 'NN'), ('lograr', 'NN'), ('apertura', 'NN'), ('.', '.'), ('Se', 'NNP'), ('reaiza', 'NN'), ('cirugia', 'NN'), ('CEC', 'NNP'), ('comprobandose', 'NN'), ('atresia', 'NN'), ('pulmonar', 'NN'), ('CIV', 'NNP'), ('VD', 'NNP'), ('tripartito', 'NN'), ('insuficiencia', 'NN'), ('tricuspidea', 'NN'), ('moderada', 'NN'), ('.', '.'), ('Se', 'NNP'), ('realiza', 'NN'), ('valvulotomia', 'NN'), ('pulmonar', 'NN'), ('mas', 'NN'), ('plastia', 'NN'), ('tricuspidea', 'NN'), ('plastia', 'NN'), ('auricular', 'JJ'), ('30-9-1999', 'JJ'), ('(', '('), ('Dr.', 'NNP'), ('Leon', 'NNP'), (')', ')'), ('.', '.'), ('Evolucionando', 'NNP'), ('Estenosis', 'NNP'), ('Residual', 'NNP'), ('moderada', 'NNP'), ('dilatacion', 'NN'), ('cavidades', 'NNS'), ('derechas', 'VBP'), ('fx', 'VBN'), ('sistolica', 'JJ'), ('niormal', 'JJ'), ('.', '.'), ('Trae', 'NNP'), ('RNM', 'NNP'), ('UC', 'NNP'), ('2013', 'CD'), (':', ':'), ('VFD', 'NNP'), ('VD', 'NNP'), ('108.6', 'CD'), ('ML/M2', 'NNP'), ('.', '.'), ('IP', 'NNP'), ('FR', 'NNP'), ('33.7', 'CD'), ('%', 'NN'), ('(', '('), ('Examen', 'NNP'), ('previo', 'VBZ'), ('20111', 'CD'), (':', ':'), ('15.4', 'CD'), ('%', 'NN'), (')', ')'), ('.', '.'), ('PRESENTO', 'NNP'), ('SINCOPE', 'NNP'), ('(', '('), ('Unico', 'NNP'), ('episodio', 'NN'), (')', ')'), ('CON', 'NNP'), ('ESTUDIO', 'NNP'), ('NEGATIVO', 'NNP'), ('EN', 'NNP'), ('TIL', 'NNP'), ('TEST', 'NNP'), ('.', '.'), ('Eco', 'NNP'), ('hoy', 'VBD'), ('12-1-16', 'JJ'), ('Dr.', 'NNP'), ('Baraona', 'NNP'), (':', ':'), ('Estenosis', 'NN'), ('pulmonar', 'NN'), ('valvular', 'JJ'), ('supravalvular', 'JJ'), ('leves', 'NNS'), ('insuficiencia', 'VBP'), ('libre', 'NN'), ('.', '.'), ('Dilatación', 'NNP'), ('hipertrofia', 'NN'), ('moderada', 'NN'), ('VD', 'NNP'), ('fx', 'NN'), ('sistolica', 'NN'), ('disminuida', 'NN'), ('.', '.'), ('Insuficiencia', 'NNP'), ('tricúspide', 'IN'), ('moderada', 'NNP'), ('severa', 'NN'), ('.', '.'), ('Hace', 'NNP'), ('vida', 'IN'), ('normal', 'JJ'), ('gral', 'JJ'), (',', ','), ('deporte', 'JJ'), ('menos', 'FW'), ('4', 'CD'), ('veces', 'NNS'), ('semana', 'NN'), (',', ','), ('bajado', 'NN'), ('peso', 'NN'), ('mejor', 'NN'), ('.', '.'), ('presentado', 'JJ'), ('menos', 'JJ'), ('taquicardias', 'NN'), ('.', '.'), ('tqb', 'NN'), ('.', '.'), ('oh', 'UH'), ('.', '.'), ('Rx', 'JJ'), ('Tórax', 'NN'), (':', ':'), ('ICT', 'NN'), (':', ':'), ('0.48', 'CD'), ('ECG', 'NN'), (':', ':'), ('ritmo', 'NN'), ('SINUSAL', 'NNP'), ('.', '.'), ('Dental', 'NN'), (':', ':'), ('ok.', 'JJ'), ('exodoncia', 'NN'), ('muelas', 'NNS'), ('juicio', 'NN'), ('.', '.'), ('alergias', 'NN'), (':', ':'), ('MEDS', 'NN'), (':', ':'), ('Espironolacotona', 'NNP'), ('25', 'CD'), ('mg', 'NN'), ('dia.', 'NN'), (',', ','), ('educa', 'FW'), ('respecto', 'NN'), ('enfermedad', 'NN'), ('.', '.'), ('Se', 'NNP'), ('entregan', 'JJ'), ('datos', 'NNS'), ('contacto', 'VBP'), ('unidad', 'JJ'), ('entrega', 'JJ'), ('pasaporte', 'NN'), ('salud', 'NN'), ('congénitos', 'NN'), ('.', '.'), ('educa', 'CC'), ('profilaxis', 'JJ'), ('EBSA', 'NNP'), ('.', '.'), ('incentivar', 'NN'), ('deporte', 'NN'), ('aerobico', 'NN'), ('.', '.'), ('(', '('), ('Mntener', 'NNP'), ('deporte', 'RB'), (')', ')'), ('control', 'NN'), ('TE', 'NNP'), ('holter', 'NN'), ('ecg', 'NN'), ('evaluar', 'NN'), ('momento', 'NN'), ('qx', 'NN'), (',', ','), ('Control', 'NNP'), (',', ','), ('Paciente', 'NNP'), ('nueva', 'FW'), ('primera', 'NN'), ('consulta', 'NN'), ('Linares', 'NNP'), ('derivada', 'VBZ'), ('HLCM', 'NNP'), ('.', '.'), ('paso', 'NN'), ('3', 'CD'), ('medio', 'NN'), ('(', '('), ('Quiere', 'NNP'), ('estudiar', 'RB'), ('párvulos', 'NN'), (')', ')'), ('.', '.'), ('Con', 'NNP'), ('diagnostico', 'NN'), ('EP', 'NNP'), ('critica', 'NN'), ('.', '.'), ('Se', 'NNP'), ('intenta', 'JJ'), ('dilatación', 'NN'), ('percutanea', 'NN'), ('3', 'CD'), ('ddv', 'NN'), ('lograr', 'NN'), ('apertura', 'NN'), ('.', '.'), ('Se', 'NNP'), ('reaiza', 'NN'), ('cirugia', 'NN'), ('CEC', 'NNP'), ('comprobandose', 'NN'), ('atresia', 'NN'), ('pulmonar', 'NN'), ('CIV', 'NNP'), ('VD', 'NNP'), ('tripartito', 'NN'), ('insuficiencia', 'NN'), ('tricuspidea', 'NN'), ('moderada', 'NN'), ('.', '.'), ('Se', 'NNP'), ('realiza', 'NN'), ('valvulotomia', 'NN'), ('pulmonar', 'NN'), ('mas', 'NN'), ('plastia', 'NN'), ('tricuspidea', 'NN'), ('plastia', 'NN'), ('auricular', 'JJ'), ('30-9-1999', 'JJ'), ('(', '('), ('Dr.', 'NNP'), ('Leon', 'NNP'), (')', ')'), ('.', '.'), ('Evolucionando', 'NNP'), ('Estenosis', 'NNP'), ('Residual', 'NNP'), ('moderada', 'NNP'), ('dilatacion', 'NN'), ('cavidades', 'NNS'), ('derechas', 'VBP'), ('fx', 'VBN'), ('sistolica', 'JJ'), ('niormal', 'JJ'), ('.', '.'), ('Trae', 'NNP'), ('RNM', 'NNP'), ('UC', 'NNP'), ('2013', 'CD'), (':', ':'), ('VFD', 'NNP'), ('VD', 'NNP'), ('108.6', 'CD'), ('ML/M2', 'NNP'), ('.', '.'), ('IP', 'NNP'), ('FR', 'NNP'), ('33.7', 'CD'), ('%', 'NN'), ('(', '('), ('Examen', 'NNP'), ('previo', 'VBZ'), ('20111', 'CD'), (':', ':'), ('15.4', 'CD'), ('%', 'NN'), (')', ')'), ('.', '.'), ('PRESENTO', 'NNP'), ('SINCOPE', 'NNP'), ('(', '('), ('Unico', 'NNP'), ('episodio', 'NN'), (')', ')'), ('CON', 'NNP'), ('ESTUDIO', 'NNP'), ('NEGATIVO', 'NNP'), ('EN', 'NNP'), ('TIL', 'NNP'), ('TEST', 'NNP'), ('.', '.'), ('Eco', 'NNP'), ('hoy', 'VBD'), ('12-1-16', 'JJ'), ('Dr.', 'NNP'), ('Baraona', 'NNP'), (':', ':'), ('Estenosis', 'NN'), ('pulmonar', 'NN'), ('valvular', 'JJ'), ('supravalvular', 'JJ'), ('leves', 'NNS'), ('insuficiencia', 'VBP'), ('libre', 'NN'), ('.', '.'), ('Dilatación', 'NNP'), ('hipertrofia', 'NN'), ('moderada', 'NN'), ('VD', 'NNP'), ('fx', 'NN'), ('sistolica', 'NN'), ('disminuida', 'NN'), ('.', '.'), ('Insuficiencia', 'NNP'), ('tricúspide', 'IN'), ('moderada', 'NNP'), ('severa', 'NN'), ('.', '.'), ('Hace', 'NNP'), ('vida', 'IN'), ('normal', 'JJ'), ('gral', 'JJ'), (',', ','), ('deporte', 'JJ'), ('menos', 'FW'), ('4', 'CD'), ('veces', 'NNS'), ('semana', 'NN'), (',', ','), ('bajado', 'NN'), ('peso', 'NN'), ('mejor', 'NN'), ('.', '.'), ('presentado', 'JJ'), ('menos', 'JJ'), ('taquicardias', 'NN'), ('.', '.'), ('tqb', 'NN'), ('.', '.'), ('oh', 'UH'), ('.', '.'), ('Rx', 'JJ'), ('Tórax', 'NN'), (':', ':'), ('ICT', 'NN'), (':', ':'), ('0.48', 'CD'), ('ECG', 'NN'), (':', ':'), ('ritmo', 'NN'), ('SINUSAL', 'NNP'), ('.', '.'), ('Dental', 'NN'), (':', ':'), ('ok.', 'JJ'), ('exodoncia', 'NN'), ('muelas', 'NNS'), ('juicio', 'NN'), ('.', '.'), ('alergias', 'NN'), (':', ':'), ('MEDS', 'NN'), (':', ':'), ('Espironolacotona', 'NNP'), ('25', 'CD'), ('mg', 'NN'), ('dia.', 'NN'), (',', ','), ('educa', 'FW'), ('respecto', 'NN'), ('enfermedad', 'NN'), ('.', '.'), ('Se', 'NNP'), ('entregan', 'JJ'), ('datos', 'NNS'), ('contacto', 'VBP'), ('unidad', 'JJ'), ('entrega', 'JJ'), ('pasaporte', 'NN'), ('salud', 'NN'), ('congénitos', 'NN'), ('.', '.'), ('educa', 'CC'), ('profilaxis', 'JJ'), ('EBSA', 'NNP'), ('.', '.'), ('incentivar', 'NN'), ('deporte', 'NN'), ('aerobico', 'NN'), ('.', '.'), ('(', '('), ('Mntener', 'NNP'), ('deporte', 'RB'), (')', ')'), ('control', 'NN'), ('TE', 'NNP'), ('holter', 'NN'), ('ecg', 'NN'), ('evaluar', 'NN'), ('momento', 'NN'), ('qx', 'NN'), (',', ','), ('Control', 'NNP')]\n"
     ]
    }
   ],
   "source": [
    "palabras_con_tag = nltk.pos_tag(atencion_sin_stopwords)\n",
    "print(palabras_con_tag)"
   ]
  },
  {
   "cell_type": "markdown",
   "metadata": {},
   "source": [
    "## Chunking"
   ]
  },
  {
   "cell_type": "code",
   "execution_count": 63,
   "metadata": {},
   "outputs": [],
   "source": [
    "chunkgram = r\"\"\"\"Chunk: {<RB.?>*<VB.?>*<NNP><NN>?}\"\"\"\n",
    "chunkParser = nltk.RegexpParser(chunkgram)\n",
    "chunked = chunkParser.parse(palabras_con_tag)"
   ]
  },
  {
   "cell_type": "code",
   "execution_count": null,
   "metadata": {},
   "outputs": [],
   "source": []
  }
 ],
 "metadata": {
  "kernelspec": {
   "display_name": "clinical-notes",
   "language": "python",
   "name": "python3"
  },
  "language_info": {
   "codemirror_mode": {
    "name": "ipython",
    "version": 3
   },
   "file_extension": ".py",
   "mimetype": "text/x-python",
   "name": "python",
   "nbconvert_exporter": "python",
   "pygments_lexer": "ipython3",
   "version": "3.11.5"
  },
  "orig_nbformat": 4
 },
 "nbformat": 4,
 "nbformat_minor": 2
}
