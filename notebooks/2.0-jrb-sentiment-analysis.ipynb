{
 "cells": [
  {
   "cell_type": "code",
   "execution_count": null,
   "metadata": {},
   "outputs": [],
   "source": [
    "import sys\n",
    "import os\n",
    "\n",
    "project_root = os.path.abspath('..')\n",
    "if project_root not in sys.path:\n",
    "    sys.path.append(project_root)\n",
    "\n",
    "%load_ext autoreload\n",
    "%autoreload 2"
   ]
  },
  {
   "cell_type": "code",
   "execution_count": null,
   "metadata": {},
   "outputs": [],
   "source": [
    "import pandas as pd\n",
    "import numpy as np\n",
    "\n",
    "from nltk.corpus import stopwords\n",
    "from sklearn.feature_extraction.text import CountVectorizer\n",
    "\n",
    "import matplotlib.pyplot as plt\n",
    "import seaborn as sns\n",
    "\n",
    "from src.features import build_features\n",
    "\n",
    "import warnings\n",
    "\n",
    "warnings.filterwarnings('ignore')\n",
    "sns.set_style()\n",
    "plt.rcParams['figure.figsize'] = (12, 6)"
   ]
  },
  {
   "cell_type": "code",
   "execution_count": null,
   "metadata": {},
   "outputs": [],
   "source": [
    "df = pd.read_csv(\"../data/processed/datos_limpios_diagnosticos.csv\", encoding=\"latin-1\", sep=\";\")"
   ]
  },
  {
   "cell_type": "markdown",
   "metadata": {},
   "source": [
    "## 1. Análisis de sentimiento\n",
    "\n",
    "En este cuadernillo se quiere responder las siguientes preguntas:\n",
    "\n",
    "1. ¿Cuál es el sentimiento predominante en cada una de los detalles de atención?\n",
    "2. ¿Existe alguna tendencia de estos sentimientos según la especialidad donde se atiende el paciente?\n",
    "3. ¿Existe alguna tendencia de estos sentimientos según el diagnóstico que se le asignó al paciente?"
   ]
  },
  {
   "cell_type": "markdown",
   "metadata": {},
   "source": [
    "### 1.1 Análisis Exploratorio de los datos"
   ]
  },
  {
   "cell_type": "code",
   "execution_count": null,
   "metadata": {},
   "outputs": [],
   "source": [
    "vectorizador = CountVectorizer()\n",
    "palabras_a_filtrar = stopwords.words(\"spanish\")\n",
    "\n",
    "atenciones = df[\"detalle_atencion\"].dropna().str.lower()\n",
    "conteo_de_palabras = vectorizador.fit_transform(atenciones)"
   ]
  },
  {
   "cell_type": "code",
   "execution_count": null,
   "metadata": {},
   "outputs": [],
   "source": [
    "frecuencias = conteo_de_palabras.sum(axis=0)\n",
    "frecuencias = frecuencias.tolist()[0]"
   ]
  },
  {
   "cell_type": "code",
   "execution_count": null,
   "metadata": {},
   "outputs": [],
   "source": [
    "word_freq_df = pd.DataFrame(\n",
    "    {\"Word\": vectorizador.get_feature_names_out(), \"Frequency\": frecuencias}\n",
    ").sort_values(\"Frequency\", ascending=False)"
   ]
  },
  {
   "cell_type": "code",
   "execution_count": null,
   "metadata": {},
   "outputs": [],
   "source": [
    "word_freq_df.head(30).plot(y=\"Frequency\", x=\"Word\", kind=\"bar\")"
   ]
  },
  {
   "cell_type": "markdown",
   "metadata": {},
   "source": [
    "El análisis de las 30 palabras mas frecuentes indican lo siguiente:\n",
    "\n",
    "- Gran parte de las palabras más frecuentes corresponden a conjunciones (de, en, con, no, se, sin, etc).\n",
    "Por lo tanto, es necesario filtrar estas palabras.\n",
    "\n",
    "- Existen palabras de alta relevancia, tales como: control, tac, pulmonar, etc...\n",
    "\n",
    "Por lo tanto, es necesario limpiar los textos"
   ]
  },
  {
   "cell_type": "code",
   "execution_count": null,
   "metadata": {},
   "outputs": [],
   "source": [
    "df[\"detalle_atencion_procesada\"] = build_features.preprocess_text(df[\"detalle_atencion\"], \"spanish\")"
   ]
  },
  {
   "cell_type": "code",
   "execution_count": null,
   "metadata": {},
   "outputs": [],
   "source": [
    "vectorizador_procesado = CountVectorizer()\n",
    "matriz_conteo = vectorizador_procesado.fit_transform(df[\"detalle_atencion_procesada\"])\n",
    "conteo_palabras_procesadas = matriz_conteo.sum(axis=0).tolist()[0]"
   ]
  },
  {
   "cell_type": "code",
   "execution_count": null,
   "metadata": {},
   "outputs": [],
   "source": [
    "df_conteo_palabras_procesadas = pd.DataFrame(\n",
    "    {\n",
    "        \"Word\": vectorizador_procesado.get_feature_names_out(),\n",
    "        \"Frequency\": conteo_palabras_procesadas,\n",
    "    }\n",
    ")\n",
    "df_conteo_palabras_procesadas = df_conteo_palabras_procesadas.sort_values(\n",
    "    \"Frequency\", ascending=False\n",
    ")"
   ]
  },
  {
   "cell_type": "code",
   "execution_count": null,
   "metadata": {},
   "outputs": [],
   "source": [
    "sns.set_color_codes(\"pastel\")\n",
    "sns.barplot(data=df_conteo_palabras_procesadas.head(30), x=\"Frequency\", y=\"Word\", color=\"b\")"
   ]
  },
  {
   "cell_type": "markdown",
   "metadata": {},
   "source": [
    "Una vez realizado el preprocesamiento de los textos analizados se observa que la palabra más frecuente\n",
    "es control. Otras palabras interesante que son altamente frecuente son: \"tac\", \"pulmonar\", \"mg\", \"disnea\", entre otras."
   ]
  }
 ],
 "metadata": {
  "language_info": {
   "name": "python"
  }
 },
 "nbformat": 4,
 "nbformat_minor": 2
}
